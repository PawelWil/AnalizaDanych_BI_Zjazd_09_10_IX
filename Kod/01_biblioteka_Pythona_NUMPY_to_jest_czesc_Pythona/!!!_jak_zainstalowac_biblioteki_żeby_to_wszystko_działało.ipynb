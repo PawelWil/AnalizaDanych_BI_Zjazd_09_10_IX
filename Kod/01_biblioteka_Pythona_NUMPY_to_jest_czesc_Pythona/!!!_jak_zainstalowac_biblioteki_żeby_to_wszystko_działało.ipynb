{
 "cells": [
  {
   "cell_type": "code",
   "execution_count": null,
   "metadata": {
    "collapsed": true
   },
   "outputs": [],
   "source": [
    "# dane pobieram sobie z pliku 'requirements.txt' - a robie to poprzez -> wchodze do terminal; -> tam rozijam znak wiekszości, ale ten w dół i wybieram 'Command Prompt' -> następnie wpisuje: pip install -r <nazwa_pliku_z_bibliotekami> -> w naszym przypadku to będzie: pip install -r requirements2.txt -> enter -> i teraz powinno być ok"
   ]
  }
 ],
 "metadata": {
  "kernelspec": {
   "display_name": "Python 3",
   "language": "python",
   "name": "python3"
  },
  "language_info": {
   "codemirror_mode": {
    "name": "ipython",
    "version": 2
   },
   "file_extension": ".py",
   "mimetype": "text/x-python",
   "name": "python",
   "nbconvert_exporter": "python",
   "pygments_lexer": "ipython2",
   "version": "2.7.6"
  }
 },
 "nbformat": 4,
 "nbformat_minor": 0
}
