{
 "cells": [
  {
   "cell_type": "markdown",
   "source": [
    "### Zadanie 2\n",
    "Wykonaj następujące polecenia za pomocą biblioteki pandas."
   ],
   "metadata": {
    "collapsed": false
   },
   "id": "b95f7712c751409b"
  },
  {
   "cell_type": "markdown",
   "source": [
    "| Kolumna        | Opis                                                                                                                                                         |\n",
    "|----------------|--------------------------------------------------------------------------------------------------------------------------------------------------------------|\n",
    "| id             | Unikalny identyfikator.                                                                                                                                      |\n",
    "| year           | Rok lotu. Zbiór zawiera loty z 2013 roku.                                                                                                                    |\n",
    "| month          | Miesiąc roku kiedy odbył się lot, przedstawiony jako liczba od 1 (Styczeń) do 12 (Grudzień).                                                                 |\n",
    "| day            | Dzień miesiąca kiedy odbył się lot, przedstawiony jako liczba od 1 do 31.                                                                                    |\n",
    "| dep_time       | Rzeczywisty czas odlotu, przedstawiony w formacie 24h (hhmm).                                                                                                |\n",
    "| sched_dep_time | Zaplanowany czas odlotu, przedstawiony w formacie 24h (hhmm).                                                                                                |\n",
    "| dep_delay      | Opóźnienie odlotu, obliczone jako różnica rzeczywistego, a zaplanowanego czasu odlotu. Dodatnia wartość oznacza opóźnienie, ujemna wcześniejszy odlot.       |\n",
    "| arr_time       | Rzeczywisty czas przylotu, przedstawiony w formacie 24h (hhmm).                                                                                              |\n",
    "| sched_arr_time | Zaplanowany czas przylotu, przedstawiony w formacie 24h (hhmm).                                                                                              |\n",
    "| arr_delay      | Opóźnienie przylotu, obliczone jako różnica rzeczywistego, a zaplanowanego czasu przylotu. Dodatnia wartość oznacza opóźnienie, ujemna wcześniejszy przylot. |\n",
    "| carrier        | Dwuliterowy kod przewoźnika odpowiedzialnego za lot.                                                                                                         |\n",
    "| flight         | Numer lotu.                                                                                                                                                  |\n",
    "| tailnum        | Unikalny identyfikator samolotu którym wykonano lot.                                                                                                         |\n",
    "| origin         | Trzy literowy kod lotniska odlotu.                                                                                                                           |\n",
    "| dest           | Trzy literowy kod lotniska przylotu.                                                                                                                         |\n",
    "| air_time       | Długość lotu w minutach.                                                                                                                                     |\n",
    "| distance       | Całkitowy dystans (w milach) pomiędzy portem odlotu, a portem przylotu.                                                                                      |\n",
    "| hour           | Zaplanowana godzina odlotu, w lokalnej strefie czasowej.                                                                                                     |\n",
    "| minute         | Zaplanowana minuta odlotu, w lokalnej strefie czasowej.                                                                                                      |\n",
    "| time_hour      | Zaplanowana data lotu, przedstawiona w lokalnej strefie czasowej w formacie \"yyyy-mm-dd hh:mm:ss\".                                                           |\n",
    "| name           | Pełna nazwa przewoźnika odpowiedzialnego za lot.                                                                                                             |"
   ],
   "metadata": {
    "collapsed": false
   },
   "id": "fbfc5b6b72cd0a1"
  },
  {
   "cell_type": "markdown",
   "source": [
    "Import bibliotek NumPy oraz pandas"
   ],
   "metadata": {
    "collapsed": false
   },
   "id": "8730d08357b60cc9"
  },
  {
   "cell_type": "code",
   "execution_count": 51,
   "outputs": [],
   "source": [
    "import numpy as np\n",
    "import pandas as pd"
   ],
   "metadata": {
    "collapsed": false,
    "ExecuteTime": {
     "end_time": "2023-08-10T09:19:14.789526300Z",
     "start_time": "2023-08-10T09:19:12.082603200Z"
    }
   },
   "id": "a88f4c695a87cba0"
  },
  {
   "cell_type": "markdown",
   "source": [
    "Import pliku flights.csv oraz wyświetl kilka pierwszych wierszy"
   ],
   "metadata": {
    "collapsed": false
   },
   "id": "309e509c6be4790c"
  },
  {
   "cell_type": "code",
   "execution_count": 59,
   "outputs": [
    {
     "data": {
      "text/plain": "   id  year  month  day  dep_time  sched_dep_time  dep_delay  arr_time  \\\n0   0  2013      1    1     517.0             515        2.0     830.0   \n1   1  2013      1    1     533.0             529        4.0     850.0   \n2   2  2013      1    1     542.0             540        2.0     923.0   \n3   3  2013      1    1     544.0             545       -1.0    1004.0   \n4   4  2013      1    1     554.0             600       -6.0     812.0   \n\n   sched_arr_time  arr_delay  ... flight  tailnum origin dest air_time  \\\n0             819       11.0  ...   1545   N14228    EWR  IAH    227.0   \n1             830       20.0  ...   1714   N24211    LGA  IAH    227.0   \n2             850       33.0  ...   1141   N619AA    JFK  MIA    160.0   \n3            1022      -18.0  ...    725   N804JB    JFK  BQN    183.0   \n4             837      -25.0  ...    461   N668DN    LGA  ATL    116.0   \n\n   distance  hour  minute            time_hour                    name  \n0      1400     5      15  2013-01-01 05:00:00   United Air Lines Inc.  \n1      1416     5      29  2013-01-01 05:00:00   United Air Lines Inc.  \n2      1089     5      40  2013-01-01 05:00:00  American Airlines Inc.  \n3      1576     5      45  2013-01-01 05:00:00         JetBlue Airways  \n4       762     6       0  2013-01-01 06:00:00    Delta Air Lines Inc.  \n\n[5 rows x 21 columns]",
      "text/html": "<div>\n<style scoped>\n    .dataframe tbody tr th:only-of-type {\n        vertical-align: middle;\n    }\n\n    .dataframe tbody tr th {\n        vertical-align: top;\n    }\n\n    .dataframe thead th {\n        text-align: right;\n    }\n</style>\n<table border=\"1\" class=\"dataframe\">\n  <thead>\n    <tr style=\"text-align: right;\">\n      <th></th>\n      <th>id</th>\n      <th>year</th>\n      <th>month</th>\n      <th>day</th>\n      <th>dep_time</th>\n      <th>sched_dep_time</th>\n      <th>dep_delay</th>\n      <th>arr_time</th>\n      <th>sched_arr_time</th>\n      <th>arr_delay</th>\n      <th>...</th>\n      <th>flight</th>\n      <th>tailnum</th>\n      <th>origin</th>\n      <th>dest</th>\n      <th>air_time</th>\n      <th>distance</th>\n      <th>hour</th>\n      <th>minute</th>\n      <th>time_hour</th>\n      <th>name</th>\n    </tr>\n  </thead>\n  <tbody>\n    <tr>\n      <th>0</th>\n      <td>0</td>\n      <td>2013</td>\n      <td>1</td>\n      <td>1</td>\n      <td>517.0</td>\n      <td>515</td>\n      <td>2.0</td>\n      <td>830.0</td>\n      <td>819</td>\n      <td>11.0</td>\n      <td>...</td>\n      <td>1545</td>\n      <td>N14228</td>\n      <td>EWR</td>\n      <td>IAH</td>\n      <td>227.0</td>\n      <td>1400</td>\n      <td>5</td>\n      <td>15</td>\n      <td>2013-01-01 05:00:00</td>\n      <td>United Air Lines Inc.</td>\n    </tr>\n    <tr>\n      <th>1</th>\n      <td>1</td>\n      <td>2013</td>\n      <td>1</td>\n      <td>1</td>\n      <td>533.0</td>\n      <td>529</td>\n      <td>4.0</td>\n      <td>850.0</td>\n      <td>830</td>\n      <td>20.0</td>\n      <td>...</td>\n      <td>1714</td>\n      <td>N24211</td>\n      <td>LGA</td>\n      <td>IAH</td>\n      <td>227.0</td>\n      <td>1416</td>\n      <td>5</td>\n      <td>29</td>\n      <td>2013-01-01 05:00:00</td>\n      <td>United Air Lines Inc.</td>\n    </tr>\n    <tr>\n      <th>2</th>\n      <td>2</td>\n      <td>2013</td>\n      <td>1</td>\n      <td>1</td>\n      <td>542.0</td>\n      <td>540</td>\n      <td>2.0</td>\n      <td>923.0</td>\n      <td>850</td>\n      <td>33.0</td>\n      <td>...</td>\n      <td>1141</td>\n      <td>N619AA</td>\n      <td>JFK</td>\n      <td>MIA</td>\n      <td>160.0</td>\n      <td>1089</td>\n      <td>5</td>\n      <td>40</td>\n      <td>2013-01-01 05:00:00</td>\n      <td>American Airlines Inc.</td>\n    </tr>\n    <tr>\n      <th>3</th>\n      <td>3</td>\n      <td>2013</td>\n      <td>1</td>\n      <td>1</td>\n      <td>544.0</td>\n      <td>545</td>\n      <td>-1.0</td>\n      <td>1004.0</td>\n      <td>1022</td>\n      <td>-18.0</td>\n      <td>...</td>\n      <td>725</td>\n      <td>N804JB</td>\n      <td>JFK</td>\n      <td>BQN</td>\n      <td>183.0</td>\n      <td>1576</td>\n      <td>5</td>\n      <td>45</td>\n      <td>2013-01-01 05:00:00</td>\n      <td>JetBlue Airways</td>\n    </tr>\n    <tr>\n      <th>4</th>\n      <td>4</td>\n      <td>2013</td>\n      <td>1</td>\n      <td>1</td>\n      <td>554.0</td>\n      <td>600</td>\n      <td>-6.0</td>\n      <td>812.0</td>\n      <td>837</td>\n      <td>-25.0</td>\n      <td>...</td>\n      <td>461</td>\n      <td>N668DN</td>\n      <td>LGA</td>\n      <td>ATL</td>\n      <td>116.0</td>\n      <td>762</td>\n      <td>6</td>\n      <td>0</td>\n      <td>2013-01-01 06:00:00</td>\n      <td>Delta Air Lines Inc.</td>\n    </tr>\n  </tbody>\n</table>\n<p>5 rows × 21 columns</p>\n</div>"
     },
     "execution_count": 59,
     "metadata": {},
     "output_type": "execute_result"
    }
   ],
   "source": [
    "df_flights = pd.read_csv('flights.csv')\n",
    "df_flights.head()"
   ],
   "metadata": {
    "collapsed": false
   },
   "id": "84edd6b138768685"
  },
  {
   "cell_type": "code",
   "execution_count": 17,
   "outputs": [],
   "source": [
    "######################################################################################"
   ],
   "metadata": {
    "collapsed": false,
    "ExecuteTime": {
     "end_time": "2023-08-10T09:19:15.613328Z",
     "start_time": "2023-08-10T09:19:14.793529300Z"
    }
   },
   "id": "86a5969dce114d4"
  },
  {
   "cell_type": "markdown",
   "source": [
    "Wyświetl podstawowe informacje o danych"
   ],
   "metadata": {
    "collapsed": false
   },
   "id": "ab1dd335a3369de6"
  },
  {
   "cell_type": "code",
   "execution_count": 53,
   "outputs": [
    {
     "name": "stdout",
     "output_type": "stream",
     "text": [
      "<class 'pandas.core.frame.DataFrame'>\n",
      "RangeIndex: 336776 entries, 0 to 336775\n",
      "Data columns (total 21 columns):\n",
      " #   Column          Non-Null Count   Dtype  \n",
      "---  ------          --------------   -----  \n",
      " 0   id              336776 non-null  int64  \n",
      " 1   year            336776 non-null  int64  \n",
      " 2   month           336776 non-null  int64  \n",
      " 3   day             336776 non-null  int64  \n",
      " 4   dep_time        328521 non-null  float64\n",
      " 5   sched_dep_time  336776 non-null  int64  \n",
      " 6   dep_delay       328521 non-null  float64\n",
      " 7   arr_time        328063 non-null  float64\n",
      " 8   sched_arr_time  336776 non-null  int64  \n",
      " 9   arr_delay       327346 non-null  float64\n",
      " 10  carrier         336776 non-null  object \n",
      " 11  flight          336776 non-null  int64  \n",
      " 12  tailnum         334264 non-null  object \n",
      " 13  origin          336776 non-null  object \n",
      " 14  dest            336776 non-null  object \n",
      " 15  air_time        327346 non-null  float64\n",
      " 16  distance        336776 non-null  int64  \n",
      " 17  hour            336776 non-null  int64  \n",
      " 18  minute          336776 non-null  int64  \n",
      " 19  time_hour       336776 non-null  object \n",
      " 20  name            336776 non-null  object \n",
      "dtypes: float64(5), int64(10), object(6)\n",
      "memory usage: 54.0+ MB\n"
     ]
    }
   ],
   "source": [
    "df_flights.info()"
   ],
   "metadata": {
    "collapsed": false
   },
   "id": "d3d0031f89cefe5b"
  },
  {
   "cell_type": "code",
   "execution_count": 19,
   "outputs": [],
   "source": [
    "######################################################################################"
   ],
   "metadata": {
    "collapsed": false,
    "ExecuteTime": {
     "end_time": "2023-08-10T09:19:15.856925100Z",
     "start_time": "2023-08-10T09:19:15.648854300Z"
    }
   },
   "id": "6351c7c2f847da05"
  },
  {
   "cell_type": "markdown",
   "source": [
    "Wyświetl podstawowe statystyki kolumn"
   ],
   "metadata": {
    "collapsed": false
   },
   "id": "29750ec50712bdb6"
  },
  {
   "cell_type": "code",
   "execution_count": 60,
   "outputs": [
    {
     "data": {
      "text/plain": "                  id      year          month            day       dep_time  \\\ncount  336776.000000  336776.0  336776.000000  336776.000000  328521.000000   \nmean   168387.500000    2013.0       6.548510      15.710787    1349.109947   \nstd     97219.001466       0.0       3.414457       8.768607     488.281791   \nmin         0.000000    2013.0       1.000000       1.000000       1.000000   \n25%     84193.750000    2013.0       4.000000       8.000000     907.000000   \n50%    168387.500000    2013.0       7.000000      16.000000    1401.000000   \n75%    252581.250000    2013.0      10.000000      23.000000    1744.000000   \nmax    336775.000000    2013.0      12.000000      31.000000    2400.000000   \n\n       sched_dep_time      dep_delay       arr_time  sched_arr_time  \\\ncount   336776.000000  328521.000000  328063.000000   336776.000000   \nmean      1344.254840      12.639070    1502.054999     1536.380220   \nstd        467.335756      40.210061     533.264132      497.457142   \nmin        106.000000     -43.000000       1.000000        1.000000   \n25%        906.000000      -5.000000    1104.000000     1124.000000   \n50%       1359.000000      -2.000000    1535.000000     1556.000000   \n75%       1729.000000      11.000000    1940.000000     1945.000000   \nmax       2359.000000    1301.000000    2400.000000     2359.000000   \n\n           arr_delay         flight       air_time       distance  \\\ncount  327346.000000  336776.000000  327346.000000  336776.000000   \nmean        6.895377    1971.923620     150.686460    1039.912604   \nstd        44.633292    1632.471938      93.688305     733.233033   \nmin       -86.000000       1.000000      20.000000      17.000000   \n25%       -17.000000     553.000000      82.000000     502.000000   \n50%        -5.000000    1496.000000     129.000000     872.000000   \n75%        14.000000    3465.000000     192.000000    1389.000000   \nmax      1272.000000    8500.000000     695.000000    4983.000000   \n\n                hour         minute  \ncount  336776.000000  336776.000000  \nmean       13.180247      26.230100  \nstd         4.661316      19.300846  \nmin         1.000000       0.000000  \n25%         9.000000       8.000000  \n50%        13.000000      29.000000  \n75%        17.000000      44.000000  \nmax        23.000000      59.000000  ",
      "text/html": "<div>\n<style scoped>\n    .dataframe tbody tr th:only-of-type {\n        vertical-align: middle;\n    }\n\n    .dataframe tbody tr th {\n        vertical-align: top;\n    }\n\n    .dataframe thead th {\n        text-align: right;\n    }\n</style>\n<table border=\"1\" class=\"dataframe\">\n  <thead>\n    <tr style=\"text-align: right;\">\n      <th></th>\n      <th>id</th>\n      <th>year</th>\n      <th>month</th>\n      <th>day</th>\n      <th>dep_time</th>\n      <th>sched_dep_time</th>\n      <th>dep_delay</th>\n      <th>arr_time</th>\n      <th>sched_arr_time</th>\n      <th>arr_delay</th>\n      <th>flight</th>\n      <th>air_time</th>\n      <th>distance</th>\n      <th>hour</th>\n      <th>minute</th>\n    </tr>\n  </thead>\n  <tbody>\n    <tr>\n      <th>count</th>\n      <td>336776.000000</td>\n      <td>336776.0</td>\n      <td>336776.000000</td>\n      <td>336776.000000</td>\n      <td>328521.000000</td>\n      <td>336776.000000</td>\n      <td>328521.000000</td>\n      <td>328063.000000</td>\n      <td>336776.000000</td>\n      <td>327346.000000</td>\n      <td>336776.000000</td>\n      <td>327346.000000</td>\n      <td>336776.000000</td>\n      <td>336776.000000</td>\n      <td>336776.000000</td>\n    </tr>\n    <tr>\n      <th>mean</th>\n      <td>168387.500000</td>\n      <td>2013.0</td>\n      <td>6.548510</td>\n      <td>15.710787</td>\n      <td>1349.109947</td>\n      <td>1344.254840</td>\n      <td>12.639070</td>\n      <td>1502.054999</td>\n      <td>1536.380220</td>\n      <td>6.895377</td>\n      <td>1971.923620</td>\n      <td>150.686460</td>\n      <td>1039.912604</td>\n      <td>13.180247</td>\n      <td>26.230100</td>\n    </tr>\n    <tr>\n      <th>std</th>\n      <td>97219.001466</td>\n      <td>0.0</td>\n      <td>3.414457</td>\n      <td>8.768607</td>\n      <td>488.281791</td>\n      <td>467.335756</td>\n      <td>40.210061</td>\n      <td>533.264132</td>\n      <td>497.457142</td>\n      <td>44.633292</td>\n      <td>1632.471938</td>\n      <td>93.688305</td>\n      <td>733.233033</td>\n      <td>4.661316</td>\n      <td>19.300846</td>\n    </tr>\n    <tr>\n      <th>min</th>\n      <td>0.000000</td>\n      <td>2013.0</td>\n      <td>1.000000</td>\n      <td>1.000000</td>\n      <td>1.000000</td>\n      <td>106.000000</td>\n      <td>-43.000000</td>\n      <td>1.000000</td>\n      <td>1.000000</td>\n      <td>-86.000000</td>\n      <td>1.000000</td>\n      <td>20.000000</td>\n      <td>17.000000</td>\n      <td>1.000000</td>\n      <td>0.000000</td>\n    </tr>\n    <tr>\n      <th>25%</th>\n      <td>84193.750000</td>\n      <td>2013.0</td>\n      <td>4.000000</td>\n      <td>8.000000</td>\n      <td>907.000000</td>\n      <td>906.000000</td>\n      <td>-5.000000</td>\n      <td>1104.000000</td>\n      <td>1124.000000</td>\n      <td>-17.000000</td>\n      <td>553.000000</td>\n      <td>82.000000</td>\n      <td>502.000000</td>\n      <td>9.000000</td>\n      <td>8.000000</td>\n    </tr>\n    <tr>\n      <th>50%</th>\n      <td>168387.500000</td>\n      <td>2013.0</td>\n      <td>7.000000</td>\n      <td>16.000000</td>\n      <td>1401.000000</td>\n      <td>1359.000000</td>\n      <td>-2.000000</td>\n      <td>1535.000000</td>\n      <td>1556.000000</td>\n      <td>-5.000000</td>\n      <td>1496.000000</td>\n      <td>129.000000</td>\n      <td>872.000000</td>\n      <td>13.000000</td>\n      <td>29.000000</td>\n    </tr>\n    <tr>\n      <th>75%</th>\n      <td>252581.250000</td>\n      <td>2013.0</td>\n      <td>10.000000</td>\n      <td>23.000000</td>\n      <td>1744.000000</td>\n      <td>1729.000000</td>\n      <td>11.000000</td>\n      <td>1940.000000</td>\n      <td>1945.000000</td>\n      <td>14.000000</td>\n      <td>3465.000000</td>\n      <td>192.000000</td>\n      <td>1389.000000</td>\n      <td>17.000000</td>\n      <td>44.000000</td>\n    </tr>\n    <tr>\n      <th>max</th>\n      <td>336775.000000</td>\n      <td>2013.0</td>\n      <td>12.000000</td>\n      <td>31.000000</td>\n      <td>2400.000000</td>\n      <td>2359.000000</td>\n      <td>1301.000000</td>\n      <td>2400.000000</td>\n      <td>2359.000000</td>\n      <td>1272.000000</td>\n      <td>8500.000000</td>\n      <td>695.000000</td>\n      <td>4983.000000</td>\n      <td>23.000000</td>\n      <td>59.000000</td>\n    </tr>\n  </tbody>\n</table>\n</div>"
     },
     "execution_count": 60,
     "metadata": {},
     "output_type": "execute_result"
    }
   ],
   "source": [
    "df_flights.describe()"
   ],
   "metadata": {
    "collapsed": false
   },
   "id": "52b3f6eb053361cc"
  },
  {
   "cell_type": "code",
   "execution_count": 21,
   "outputs": [],
   "source": [
    "######################################################################################"
   ],
   "metadata": {
    "collapsed": false,
    "ExecuteTime": {
     "end_time": "2023-08-10T09:19:16.042320Z",
     "start_time": "2023-08-10T09:19:15.759382900Z"
    }
   },
   "id": "eb6045d6a32ab6a6"
  },
  {
   "cell_type": "markdown",
   "source": [
    "Wyświetl ilość brakujących wartości w kolumnach"
   ],
   "metadata": {
    "collapsed": false
   },
   "id": "44eec0b7ec3aeeb2"
  },
  {
   "cell_type": "code",
   "execution_count": 61,
   "outputs": [
    {
     "data": {
      "text/plain": "id                   0\nyear                 0\nmonth                0\nday                  0\ndep_time          8255\nsched_dep_time       0\ndep_delay         8255\narr_time          8713\nsched_arr_time       0\narr_delay         9430\ncarrier              0\nflight               0\ntailnum           2512\norigin               0\ndest                 0\nair_time          9430\ndistance             0\nhour                 0\nminute               0\ntime_hour            0\nname                 0\ndtype: int64"
     },
     "execution_count": 61,
     "metadata": {},
     "output_type": "execute_result"
    }
   ],
   "source": [
    "df_flights.isna().sum()\n"
   ],
   "metadata": {
    "collapsed": false
   },
   "id": "e584003292df13bb"
  },
  {
   "cell_type": "code",
   "execution_count": 23,
   "outputs": [],
   "source": [
    "######################################################################################"
   ],
   "metadata": {
    "collapsed": false,
    "ExecuteTime": {
     "end_time": "2023-08-10T09:19:16.201041Z",
     "start_time": "2023-08-10T09:19:16.041322300Z"
    }
   },
   "id": "719d57ca4752bd13"
  },
  {
   "cell_type": "markdown",
   "source": [
    "Odfiltruj wiersze które nie mają wartości"
   ],
   "metadata": {
    "collapsed": false
   },
   "id": "55272c7cdbce0031"
  },
  {
   "cell_type": "code",
   "execution_count": 63,
   "outputs": [],
   "source": [
    "df_flights = df_flights.dropna()"
   ],
   "metadata": {
    "collapsed": false,
    "ExecuteTime": {
     "end_time": "2023-08-10T09:19:16.278433200Z",
     "start_time": "2023-08-10T09:19:16.136026100Z"
    }
   },
   "id": "19a3c9ecdffd3036"
  },
  {
   "cell_type": "markdown",
   "source": [
    "Sprawdź ponownie czy są jakieś brakujące wartości w kolumnach"
   ],
   "metadata": {
    "collapsed": false
   },
   "id": "3a1938ece21ad50b"
  },
  {
   "cell_type": "code",
   "execution_count": 24,
   "outputs": [],
   "source": [],
   "metadata": {
    "collapsed": false
   },
   "id": "28b21757bc71b0d6"
  },
  {
   "cell_type": "code",
   "execution_count": 25,
   "outputs": [],
   "source": [
    "######################################################################################"
   ],
   "metadata": {
    "collapsed": false,
    "ExecuteTime": {
     "end_time": "2023-08-10T09:19:16.372854500Z",
     "start_time": "2023-08-10T09:19:16.279437200Z"
    }
   },
   "id": "35e9e487983fecbd"
  },
  {
   "cell_type": "markdown",
   "source": [
    "Dodaj nową kolumnę (distance_km) zawierającą dystans w kilometrach na podstawie kolumny **distance** (dystans w milach * 1.609) oraz wyświetl kilka pierwszych wierszy "
   ],
   "metadata": {
    "collapsed": false
   },
   "id": "3cce86bb77338eef"
  },
  {
   "cell_type": "code",
   "execution_count": 65,
   "outputs": [
    {
     "data": {
      "text/plain": "            id  year  month  day  dep_time  sched_dep_time  dep_delay  \\\n0            0  2013      1    1     517.0             515        2.0   \n1            1  2013      1    1     533.0             529        4.0   \n2            2  2013      1    1     542.0             540        2.0   \n3            3  2013      1    1     544.0             545       -1.0   \n4            4  2013      1    1     554.0             600       -6.0   \n...        ...   ...    ...  ...       ...             ...        ...   \n336765  336765  2013      9   30    2240.0            2245       -5.0   \n336766  336766  2013      9   30    2240.0            2250      -10.0   \n336767  336767  2013      9   30    2241.0            2246       -5.0   \n336768  336768  2013      9   30    2307.0            2255       12.0   \n336769  336769  2013      9   30    2349.0            2359      -10.0   \n\n        arr_time  sched_arr_time  arr_delay  ... tailnum  origin dest  \\\n0          830.0             819       11.0  ...  N14228     EWR  IAH   \n1          850.0             830       20.0  ...  N24211     LGA  IAH   \n2          923.0             850       33.0  ...  N619AA     JFK  MIA   \n3         1004.0            1022      -18.0  ...  N804JB     JFK  BQN   \n4          812.0             837      -25.0  ...  N668DN     LGA  ATL   \n...          ...             ...        ...  ...     ...     ...  ...   \n336765    2334.0            2351      -17.0  ...  N354JB     JFK  SYR   \n336766    2347.0               7      -20.0  ...  N281JB     JFK  BUF   \n336767    2345.0               1      -16.0  ...  N346JB     JFK  ROC   \n336768    2359.0            2358        1.0  ...  N565JB     JFK  BOS   \n336769     325.0             350      -25.0  ...  N516JB     JFK  PSE   \n\n       air_time distance  hour  minute            time_hour  \\\n0         227.0     1400     5      15  2013-01-01 05:00:00   \n1         227.0     1416     5      29  2013-01-01 05:00:00   \n2         160.0     1089     5      40  2013-01-01 05:00:00   \n3         183.0     1576     5      45  2013-01-01 05:00:00   \n4         116.0      762     6       0  2013-01-01 06:00:00   \n...         ...      ...   ...     ...                  ...   \n336765     41.0      209    22      45  2013-09-30 22:00:00   \n336766     52.0      301    22      50  2013-09-30 22:00:00   \n336767     47.0      264    22      46  2013-09-30 22:00:00   \n336768     33.0      187    22      55  2013-09-30 22:00:00   \n336769    196.0     1617    23      59  2013-09-30 23:00:00   \n\n                          name distance_km  \n0        United Air Lines Inc.    2252.600  \n1        United Air Lines Inc.    2278.344  \n2       American Airlines Inc.    1752.201  \n3              JetBlue Airways    2535.784  \n4         Delta Air Lines Inc.    1226.058  \n...                        ...         ...  \n336765         JetBlue Airways     336.281  \n336766         JetBlue Airways     484.309  \n336767         JetBlue Airways     424.776  \n336768         JetBlue Airways     300.883  \n336769         JetBlue Airways    2601.753  \n\n[327346 rows x 22 columns]",
      "text/html": "<div>\n<style scoped>\n    .dataframe tbody tr th:only-of-type {\n        vertical-align: middle;\n    }\n\n    .dataframe tbody tr th {\n        vertical-align: top;\n    }\n\n    .dataframe thead th {\n        text-align: right;\n    }\n</style>\n<table border=\"1\" class=\"dataframe\">\n  <thead>\n    <tr style=\"text-align: right;\">\n      <th></th>\n      <th>id</th>\n      <th>year</th>\n      <th>month</th>\n      <th>day</th>\n      <th>dep_time</th>\n      <th>sched_dep_time</th>\n      <th>dep_delay</th>\n      <th>arr_time</th>\n      <th>sched_arr_time</th>\n      <th>arr_delay</th>\n      <th>...</th>\n      <th>tailnum</th>\n      <th>origin</th>\n      <th>dest</th>\n      <th>air_time</th>\n      <th>distance</th>\n      <th>hour</th>\n      <th>minute</th>\n      <th>time_hour</th>\n      <th>name</th>\n      <th>distance_km</th>\n    </tr>\n  </thead>\n  <tbody>\n    <tr>\n      <th>0</th>\n      <td>0</td>\n      <td>2013</td>\n      <td>1</td>\n      <td>1</td>\n      <td>517.0</td>\n      <td>515</td>\n      <td>2.0</td>\n      <td>830.0</td>\n      <td>819</td>\n      <td>11.0</td>\n      <td>...</td>\n      <td>N14228</td>\n      <td>EWR</td>\n      <td>IAH</td>\n      <td>227.0</td>\n      <td>1400</td>\n      <td>5</td>\n      <td>15</td>\n      <td>2013-01-01 05:00:00</td>\n      <td>United Air Lines Inc.</td>\n      <td>2252.600</td>\n    </tr>\n    <tr>\n      <th>1</th>\n      <td>1</td>\n      <td>2013</td>\n      <td>1</td>\n      <td>1</td>\n      <td>533.0</td>\n      <td>529</td>\n      <td>4.0</td>\n      <td>850.0</td>\n      <td>830</td>\n      <td>20.0</td>\n      <td>...</td>\n      <td>N24211</td>\n      <td>LGA</td>\n      <td>IAH</td>\n      <td>227.0</td>\n      <td>1416</td>\n      <td>5</td>\n      <td>29</td>\n      <td>2013-01-01 05:00:00</td>\n      <td>United Air Lines Inc.</td>\n      <td>2278.344</td>\n    </tr>\n    <tr>\n      <th>2</th>\n      <td>2</td>\n      <td>2013</td>\n      <td>1</td>\n      <td>1</td>\n      <td>542.0</td>\n      <td>540</td>\n      <td>2.0</td>\n      <td>923.0</td>\n      <td>850</td>\n      <td>33.0</td>\n      <td>...</td>\n      <td>N619AA</td>\n      <td>JFK</td>\n      <td>MIA</td>\n      <td>160.0</td>\n      <td>1089</td>\n      <td>5</td>\n      <td>40</td>\n      <td>2013-01-01 05:00:00</td>\n      <td>American Airlines Inc.</td>\n      <td>1752.201</td>\n    </tr>\n    <tr>\n      <th>3</th>\n      <td>3</td>\n      <td>2013</td>\n      <td>1</td>\n      <td>1</td>\n      <td>544.0</td>\n      <td>545</td>\n      <td>-1.0</td>\n      <td>1004.0</td>\n      <td>1022</td>\n      <td>-18.0</td>\n      <td>...</td>\n      <td>N804JB</td>\n      <td>JFK</td>\n      <td>BQN</td>\n      <td>183.0</td>\n      <td>1576</td>\n      <td>5</td>\n      <td>45</td>\n      <td>2013-01-01 05:00:00</td>\n      <td>JetBlue Airways</td>\n      <td>2535.784</td>\n    </tr>\n    <tr>\n      <th>4</th>\n      <td>4</td>\n      <td>2013</td>\n      <td>1</td>\n      <td>1</td>\n      <td>554.0</td>\n      <td>600</td>\n      <td>-6.0</td>\n      <td>812.0</td>\n      <td>837</td>\n      <td>-25.0</td>\n      <td>...</td>\n      <td>N668DN</td>\n      <td>LGA</td>\n      <td>ATL</td>\n      <td>116.0</td>\n      <td>762</td>\n      <td>6</td>\n      <td>0</td>\n      <td>2013-01-01 06:00:00</td>\n      <td>Delta Air Lines Inc.</td>\n      <td>1226.058</td>\n    </tr>\n    <tr>\n      <th>...</th>\n      <td>...</td>\n      <td>...</td>\n      <td>...</td>\n      <td>...</td>\n      <td>...</td>\n      <td>...</td>\n      <td>...</td>\n      <td>...</td>\n      <td>...</td>\n      <td>...</td>\n      <td>...</td>\n      <td>...</td>\n      <td>...</td>\n      <td>...</td>\n      <td>...</td>\n      <td>...</td>\n      <td>...</td>\n      <td>...</td>\n      <td>...</td>\n      <td>...</td>\n      <td>...</td>\n    </tr>\n    <tr>\n      <th>336765</th>\n      <td>336765</td>\n      <td>2013</td>\n      <td>9</td>\n      <td>30</td>\n      <td>2240.0</td>\n      <td>2245</td>\n      <td>-5.0</td>\n      <td>2334.0</td>\n      <td>2351</td>\n      <td>-17.0</td>\n      <td>...</td>\n      <td>N354JB</td>\n      <td>JFK</td>\n      <td>SYR</td>\n      <td>41.0</td>\n      <td>209</td>\n      <td>22</td>\n      <td>45</td>\n      <td>2013-09-30 22:00:00</td>\n      <td>JetBlue Airways</td>\n      <td>336.281</td>\n    </tr>\n    <tr>\n      <th>336766</th>\n      <td>336766</td>\n      <td>2013</td>\n      <td>9</td>\n      <td>30</td>\n      <td>2240.0</td>\n      <td>2250</td>\n      <td>-10.0</td>\n      <td>2347.0</td>\n      <td>7</td>\n      <td>-20.0</td>\n      <td>...</td>\n      <td>N281JB</td>\n      <td>JFK</td>\n      <td>BUF</td>\n      <td>52.0</td>\n      <td>301</td>\n      <td>22</td>\n      <td>50</td>\n      <td>2013-09-30 22:00:00</td>\n      <td>JetBlue Airways</td>\n      <td>484.309</td>\n    </tr>\n    <tr>\n      <th>336767</th>\n      <td>336767</td>\n      <td>2013</td>\n      <td>9</td>\n      <td>30</td>\n      <td>2241.0</td>\n      <td>2246</td>\n      <td>-5.0</td>\n      <td>2345.0</td>\n      <td>1</td>\n      <td>-16.0</td>\n      <td>...</td>\n      <td>N346JB</td>\n      <td>JFK</td>\n      <td>ROC</td>\n      <td>47.0</td>\n      <td>264</td>\n      <td>22</td>\n      <td>46</td>\n      <td>2013-09-30 22:00:00</td>\n      <td>JetBlue Airways</td>\n      <td>424.776</td>\n    </tr>\n    <tr>\n      <th>336768</th>\n      <td>336768</td>\n      <td>2013</td>\n      <td>9</td>\n      <td>30</td>\n      <td>2307.0</td>\n      <td>2255</td>\n      <td>12.0</td>\n      <td>2359.0</td>\n      <td>2358</td>\n      <td>1.0</td>\n      <td>...</td>\n      <td>N565JB</td>\n      <td>JFK</td>\n      <td>BOS</td>\n      <td>33.0</td>\n      <td>187</td>\n      <td>22</td>\n      <td>55</td>\n      <td>2013-09-30 22:00:00</td>\n      <td>JetBlue Airways</td>\n      <td>300.883</td>\n    </tr>\n    <tr>\n      <th>336769</th>\n      <td>336769</td>\n      <td>2013</td>\n      <td>9</td>\n      <td>30</td>\n      <td>2349.0</td>\n      <td>2359</td>\n      <td>-10.0</td>\n      <td>325.0</td>\n      <td>350</td>\n      <td>-25.0</td>\n      <td>...</td>\n      <td>N516JB</td>\n      <td>JFK</td>\n      <td>PSE</td>\n      <td>196.0</td>\n      <td>1617</td>\n      <td>23</td>\n      <td>59</td>\n      <td>2013-09-30 23:00:00</td>\n      <td>JetBlue Airways</td>\n      <td>2601.753</td>\n    </tr>\n  </tbody>\n</table>\n<p>327346 rows × 22 columns</p>\n</div>"
     },
     "execution_count": 65,
     "metadata": {},
     "output_type": "execute_result"
    }
   ],
   "source": [
    "df_flights['distance_km'] = df_flights['distance'] * 1.609\n",
    "df_flights"
   ],
   "metadata": {
    "collapsed": false
   },
   "id": "5e58142a09a1b419"
  },
  {
   "cell_type": "code",
   "execution_count": null,
   "outputs": [],
   "source": [
    "######################################################################################"
   ],
   "metadata": {
    "collapsed": false,
    "ExecuteTime": {
     "end_time": "2023-08-10T09:19:16.429408200Z",
     "start_time": "2023-08-10T09:19:16.374846700Z"
    }
   },
   "id": "2579e9eae5ccdfad"
  },
  {
   "cell_type": "markdown",
   "source": [
    "Ustaw kolumnę **id** jako index dla DateFrame oraz wyświetl kilka pierwszych wierszy"
   ],
   "metadata": {
    "collapsed": false
   },
   "id": "6ef4a4fef88ef015"
  },
  {
   "cell_type": "code",
   "execution_count": 54,
   "outputs": [
    {
     "data": {
      "text/plain": "   id  year  month  day  dep_time  sched_dep_time  dep_delay  arr_time  \\\n0   0  2013      1    1     517.0             515        2.0     830.0   \n1   1  2013      1    1     533.0             529        4.0     850.0   \n2   2  2013      1    1     542.0             540        2.0     923.0   \n3   3  2013      1    1     544.0             545       -1.0    1004.0   \n4   4  2013      1    1     554.0             600       -6.0     812.0   \n\n   sched_arr_time  arr_delay  ... flight  tailnum origin dest air_time  \\\n0             819       11.0  ...   1545   N14228    EWR  IAH    227.0   \n1             830       20.0  ...   1714   N24211    LGA  IAH    227.0   \n2             850       33.0  ...   1141   N619AA    JFK  MIA    160.0   \n3            1022      -18.0  ...    725   N804JB    JFK  BQN    183.0   \n4             837      -25.0  ...    461   N668DN    LGA  ATL    116.0   \n\n   distance  hour  minute            time_hour                    name  \n0      1400     5      15  2013-01-01 05:00:00   United Air Lines Inc.  \n1      1416     5      29  2013-01-01 05:00:00   United Air Lines Inc.  \n2      1089     5      40  2013-01-01 05:00:00  American Airlines Inc.  \n3      1576     5      45  2013-01-01 05:00:00         JetBlue Airways  \n4       762     6       0  2013-01-01 06:00:00    Delta Air Lines Inc.  \n\n[5 rows x 21 columns]",
      "text/html": "<div>\n<style scoped>\n    .dataframe tbody tr th:only-of-type {\n        vertical-align: middle;\n    }\n\n    .dataframe tbody tr th {\n        vertical-align: top;\n    }\n\n    .dataframe thead th {\n        text-align: right;\n    }\n</style>\n<table border=\"1\" class=\"dataframe\">\n  <thead>\n    <tr style=\"text-align: right;\">\n      <th></th>\n      <th>id</th>\n      <th>year</th>\n      <th>month</th>\n      <th>day</th>\n      <th>dep_time</th>\n      <th>sched_dep_time</th>\n      <th>dep_delay</th>\n      <th>arr_time</th>\n      <th>sched_arr_time</th>\n      <th>arr_delay</th>\n      <th>...</th>\n      <th>flight</th>\n      <th>tailnum</th>\n      <th>origin</th>\n      <th>dest</th>\n      <th>air_time</th>\n      <th>distance</th>\n      <th>hour</th>\n      <th>minute</th>\n      <th>time_hour</th>\n      <th>name</th>\n    </tr>\n  </thead>\n  <tbody>\n    <tr>\n      <th>0</th>\n      <td>0</td>\n      <td>2013</td>\n      <td>1</td>\n      <td>1</td>\n      <td>517.0</td>\n      <td>515</td>\n      <td>2.0</td>\n      <td>830.0</td>\n      <td>819</td>\n      <td>11.0</td>\n      <td>...</td>\n      <td>1545</td>\n      <td>N14228</td>\n      <td>EWR</td>\n      <td>IAH</td>\n      <td>227.0</td>\n      <td>1400</td>\n      <td>5</td>\n      <td>15</td>\n      <td>2013-01-01 05:00:00</td>\n      <td>United Air Lines Inc.</td>\n    </tr>\n    <tr>\n      <th>1</th>\n      <td>1</td>\n      <td>2013</td>\n      <td>1</td>\n      <td>1</td>\n      <td>533.0</td>\n      <td>529</td>\n      <td>4.0</td>\n      <td>850.0</td>\n      <td>830</td>\n      <td>20.0</td>\n      <td>...</td>\n      <td>1714</td>\n      <td>N24211</td>\n      <td>LGA</td>\n      <td>IAH</td>\n      <td>227.0</td>\n      <td>1416</td>\n      <td>5</td>\n      <td>29</td>\n      <td>2013-01-01 05:00:00</td>\n      <td>United Air Lines Inc.</td>\n    </tr>\n    <tr>\n      <th>2</th>\n      <td>2</td>\n      <td>2013</td>\n      <td>1</td>\n      <td>1</td>\n      <td>542.0</td>\n      <td>540</td>\n      <td>2.0</td>\n      <td>923.0</td>\n      <td>850</td>\n      <td>33.0</td>\n      <td>...</td>\n      <td>1141</td>\n      <td>N619AA</td>\n      <td>JFK</td>\n      <td>MIA</td>\n      <td>160.0</td>\n      <td>1089</td>\n      <td>5</td>\n      <td>40</td>\n      <td>2013-01-01 05:00:00</td>\n      <td>American Airlines Inc.</td>\n    </tr>\n    <tr>\n      <th>3</th>\n      <td>3</td>\n      <td>2013</td>\n      <td>1</td>\n      <td>1</td>\n      <td>544.0</td>\n      <td>545</td>\n      <td>-1.0</td>\n      <td>1004.0</td>\n      <td>1022</td>\n      <td>-18.0</td>\n      <td>...</td>\n      <td>725</td>\n      <td>N804JB</td>\n      <td>JFK</td>\n      <td>BQN</td>\n      <td>183.0</td>\n      <td>1576</td>\n      <td>5</td>\n      <td>45</td>\n      <td>2013-01-01 05:00:00</td>\n      <td>JetBlue Airways</td>\n    </tr>\n    <tr>\n      <th>4</th>\n      <td>4</td>\n      <td>2013</td>\n      <td>1</td>\n      <td>1</td>\n      <td>554.0</td>\n      <td>600</td>\n      <td>-6.0</td>\n      <td>812.0</td>\n      <td>837</td>\n      <td>-25.0</td>\n      <td>...</td>\n      <td>461</td>\n      <td>N668DN</td>\n      <td>LGA</td>\n      <td>ATL</td>\n      <td>116.0</td>\n      <td>762</td>\n      <td>6</td>\n      <td>0</td>\n      <td>2013-01-01 06:00:00</td>\n      <td>Delta Air Lines Inc.</td>\n    </tr>\n  </tbody>\n</table>\n<p>5 rows × 21 columns</p>\n</div>"
     },
     "execution_count": 54,
     "metadata": {},
     "output_type": "execute_result"
    }
   ],
   "source": [
    "df_flights = df_flights.set.index"
   ],
   "metadata": {
    "collapsed": false
   },
   "id": "66e3de5e52ed50c0"
  },
  {
   "cell_type": "code",
   "execution_count": null,
   "outputs": [],
   "source": [
    "######################################################################################"
   ],
   "metadata": {
    "collapsed": false,
    "ExecuteTime": {
     "end_time": "2023-08-10T09:19:16.576091600Z",
     "start_time": "2023-08-10T09:19:16.408858700Z"
    }
   },
   "id": "c504b20c0cf0980b"
  },
  {
   "cell_type": "markdown",
   "source": [
    "Wyświetl lot z indexem 3333"
   ],
   "metadata": {
    "collapsed": false
   },
   "id": "4f61bbada583624d"
  },
  {
   "cell_type": "code",
   "execution_count": 66,
   "outputs": [
    {
     "data": {
      "text/plain": "id                               3333\nyear                             2013\nmonth                               1\nday                                 4\ndep_time                       1658.0\nsched_dep_time                   1705\ndep_delay                        -7.0\narr_time                       1800.0\nsched_arr_time                   1830\narr_delay                       -30.0\ncarrier                            MQ\nflight                           4410\ntailnum                        N839MQ\norigin                            JFK\ndest                              DCA\nair_time                         44.0\ndistance                          213\nhour                               17\nminute                              5\ntime_hour         2013-01-04 17:00:00\nname                        Envoy Air\ndistance_km                   342.717\nName: 3333, dtype: object"
     },
     "execution_count": 66,
     "metadata": {},
     "output_type": "execute_result"
    }
   ],
   "source": [
    "df_flights.loc[3333]"
   ],
   "metadata": {
    "collapsed": false
   },
   "id": "8abdf1a627e6095"
  },
  {
   "cell_type": "code",
   "execution_count": 33,
   "outputs": [],
   "source": [
    "######################################################################################"
   ],
   "metadata": {
    "collapsed": false,
    "ExecuteTime": {
     "end_time": "2023-08-10T09:19:16.578092700Z",
     "start_time": "2023-08-10T09:19:16.468376700Z"
    }
   },
   "id": "1d03f9eb903e11e4"
  },
  {
   "cell_type": "markdown",
   "source": [
    "Wyświetl wszystkie loty które odbyły się 28 lutego"
   ],
   "metadata": {
    "collapsed": false
   },
   "id": "88fb712861fe82cb"
  },
  {
   "cell_type": "code",
   "execution_count": 68,
   "outputs": [
    {
     "data": {
      "text/plain": "            id  year  month  day  dep_time  sched_dep_time  dep_delay  \\\n135283  135283  2013      2   28     457.0             500       -3.0   \n135284  135284  2013      2   28     458.0             501       -3.0   \n135285  135285  2013      2   28     522.0             530       -8.0   \n135286  135286  2013      2   28     539.0             540       -1.0   \n135287  135287  2013      2   28     540.0             545       -5.0   \n...        ...   ...    ...  ...       ...             ...        ...   \n136232  136232  2013      2   28    2257.0            2255        2.0   \n136233  136233  2013      2   28    2323.0            2251       32.0   \n136234  136234  2013      2   28    2342.0            2352      -10.0   \n136235  136235  2013      2   28    2356.0            2358       -2.0   \n136236  136236  2013      2   28    2359.0            2359        0.0   \n\n        arr_time  sched_arr_time  arr_delay  ... tailnum  origin dest  \\\n135283     639.0             648       -9.0  ...  N198UW     EWR  CLT   \n135284     748.0             800      -12.0  ...  N816UA     EWR  IAH   \n135285     832.0             831        1.0  ...  N24224     LGA  IAH   \n135286     836.0             850      -14.0  ...  N638AA     JFK  MIA   \n135287    1015.0            1023       -8.0  ...  N586JB     JFK  BQN   \n...          ...             ...        ...  ...     ...     ...  ...   \n136232    2400.0            2357        3.0  ...  N807JB     JFK  BOS   \n136233      18.0            2357       21.0  ...  N279JB     JFK  SYR   \n136234     413.0             437      -24.0  ...  N656JB     JFK  PSE   \n136235     423.0             438      -15.0  ...  N646JB     JFK  SJU   \n136236     443.0             438        5.0  ...  N641JB     JFK  BQN   \n\n       air_time distance  hour  minute            time_hour  \\\n135283     82.0      529     5       0  2013-02-28 05:00:00   \n135284    211.0     1400     5       1  2013-02-28 05:00:00   \n135285    217.0     1416     5      30  2013-02-28 05:00:00   \n135286    157.0     1089     5      40  2013-02-28 05:00:00   \n135287    195.0     1576     5      45  2013-02-28 05:00:00   \n...         ...      ...   ...     ...                  ...   \n136232     35.0      187    22      55  2013-02-28 22:00:00   \n136233     40.0      209    22      51  2013-02-28 22:00:00   \n136234    193.0     1617    23      52  2013-02-28 23:00:00   \n136235    192.0     1598    23      58  2013-02-28 23:00:00   \n136236    192.0     1576    23      59  2013-02-28 23:00:00   \n\n                          name distance_km  \n135283         US Airways Inc.     851.161  \n135284   United Air Lines Inc.    2252.600  \n135285   United Air Lines Inc.    2278.344  \n135286  American Airlines Inc.    1752.201  \n135287         JetBlue Airways    2535.784  \n...                        ...         ...  \n136232         JetBlue Airways     300.883  \n136233         JetBlue Airways     336.281  \n136234         JetBlue Airways    2601.753  \n136235         JetBlue Airways    2571.182  \n136236         JetBlue Airways    2535.784  \n\n[953 rows x 22 columns]",
      "text/html": "<div>\n<style scoped>\n    .dataframe tbody tr th:only-of-type {\n        vertical-align: middle;\n    }\n\n    .dataframe tbody tr th {\n        vertical-align: top;\n    }\n\n    .dataframe thead th {\n        text-align: right;\n    }\n</style>\n<table border=\"1\" class=\"dataframe\">\n  <thead>\n    <tr style=\"text-align: right;\">\n      <th></th>\n      <th>id</th>\n      <th>year</th>\n      <th>month</th>\n      <th>day</th>\n      <th>dep_time</th>\n      <th>sched_dep_time</th>\n      <th>dep_delay</th>\n      <th>arr_time</th>\n      <th>sched_arr_time</th>\n      <th>arr_delay</th>\n      <th>...</th>\n      <th>tailnum</th>\n      <th>origin</th>\n      <th>dest</th>\n      <th>air_time</th>\n      <th>distance</th>\n      <th>hour</th>\n      <th>minute</th>\n      <th>time_hour</th>\n      <th>name</th>\n      <th>distance_km</th>\n    </tr>\n  </thead>\n  <tbody>\n    <tr>\n      <th>135283</th>\n      <td>135283</td>\n      <td>2013</td>\n      <td>2</td>\n      <td>28</td>\n      <td>457.0</td>\n      <td>500</td>\n      <td>-3.0</td>\n      <td>639.0</td>\n      <td>648</td>\n      <td>-9.0</td>\n      <td>...</td>\n      <td>N198UW</td>\n      <td>EWR</td>\n      <td>CLT</td>\n      <td>82.0</td>\n      <td>529</td>\n      <td>5</td>\n      <td>0</td>\n      <td>2013-02-28 05:00:00</td>\n      <td>US Airways Inc.</td>\n      <td>851.161</td>\n    </tr>\n    <tr>\n      <th>135284</th>\n      <td>135284</td>\n      <td>2013</td>\n      <td>2</td>\n      <td>28</td>\n      <td>458.0</td>\n      <td>501</td>\n      <td>-3.0</td>\n      <td>748.0</td>\n      <td>800</td>\n      <td>-12.0</td>\n      <td>...</td>\n      <td>N816UA</td>\n      <td>EWR</td>\n      <td>IAH</td>\n      <td>211.0</td>\n      <td>1400</td>\n      <td>5</td>\n      <td>1</td>\n      <td>2013-02-28 05:00:00</td>\n      <td>United Air Lines Inc.</td>\n      <td>2252.600</td>\n    </tr>\n    <tr>\n      <th>135285</th>\n      <td>135285</td>\n      <td>2013</td>\n      <td>2</td>\n      <td>28</td>\n      <td>522.0</td>\n      <td>530</td>\n      <td>-8.0</td>\n      <td>832.0</td>\n      <td>831</td>\n      <td>1.0</td>\n      <td>...</td>\n      <td>N24224</td>\n      <td>LGA</td>\n      <td>IAH</td>\n      <td>217.0</td>\n      <td>1416</td>\n      <td>5</td>\n      <td>30</td>\n      <td>2013-02-28 05:00:00</td>\n      <td>United Air Lines Inc.</td>\n      <td>2278.344</td>\n    </tr>\n    <tr>\n      <th>135286</th>\n      <td>135286</td>\n      <td>2013</td>\n      <td>2</td>\n      <td>28</td>\n      <td>539.0</td>\n      <td>540</td>\n      <td>-1.0</td>\n      <td>836.0</td>\n      <td>850</td>\n      <td>-14.0</td>\n      <td>...</td>\n      <td>N638AA</td>\n      <td>JFK</td>\n      <td>MIA</td>\n      <td>157.0</td>\n      <td>1089</td>\n      <td>5</td>\n      <td>40</td>\n      <td>2013-02-28 05:00:00</td>\n      <td>American Airlines Inc.</td>\n      <td>1752.201</td>\n    </tr>\n    <tr>\n      <th>135287</th>\n      <td>135287</td>\n      <td>2013</td>\n      <td>2</td>\n      <td>28</td>\n      <td>540.0</td>\n      <td>545</td>\n      <td>-5.0</td>\n      <td>1015.0</td>\n      <td>1023</td>\n      <td>-8.0</td>\n      <td>...</td>\n      <td>N586JB</td>\n      <td>JFK</td>\n      <td>BQN</td>\n      <td>195.0</td>\n      <td>1576</td>\n      <td>5</td>\n      <td>45</td>\n      <td>2013-02-28 05:00:00</td>\n      <td>JetBlue Airways</td>\n      <td>2535.784</td>\n    </tr>\n    <tr>\n      <th>...</th>\n      <td>...</td>\n      <td>...</td>\n      <td>...</td>\n      <td>...</td>\n      <td>...</td>\n      <td>...</td>\n      <td>...</td>\n      <td>...</td>\n      <td>...</td>\n      <td>...</td>\n      <td>...</td>\n      <td>...</td>\n      <td>...</td>\n      <td>...</td>\n      <td>...</td>\n      <td>...</td>\n      <td>...</td>\n      <td>...</td>\n      <td>...</td>\n      <td>...</td>\n      <td>...</td>\n    </tr>\n    <tr>\n      <th>136232</th>\n      <td>136232</td>\n      <td>2013</td>\n      <td>2</td>\n      <td>28</td>\n      <td>2257.0</td>\n      <td>2255</td>\n      <td>2.0</td>\n      <td>2400.0</td>\n      <td>2357</td>\n      <td>3.0</td>\n      <td>...</td>\n      <td>N807JB</td>\n      <td>JFK</td>\n      <td>BOS</td>\n      <td>35.0</td>\n      <td>187</td>\n      <td>22</td>\n      <td>55</td>\n      <td>2013-02-28 22:00:00</td>\n      <td>JetBlue Airways</td>\n      <td>300.883</td>\n    </tr>\n    <tr>\n      <th>136233</th>\n      <td>136233</td>\n      <td>2013</td>\n      <td>2</td>\n      <td>28</td>\n      <td>2323.0</td>\n      <td>2251</td>\n      <td>32.0</td>\n      <td>18.0</td>\n      <td>2357</td>\n      <td>21.0</td>\n      <td>...</td>\n      <td>N279JB</td>\n      <td>JFK</td>\n      <td>SYR</td>\n      <td>40.0</td>\n      <td>209</td>\n      <td>22</td>\n      <td>51</td>\n      <td>2013-02-28 22:00:00</td>\n      <td>JetBlue Airways</td>\n      <td>336.281</td>\n    </tr>\n    <tr>\n      <th>136234</th>\n      <td>136234</td>\n      <td>2013</td>\n      <td>2</td>\n      <td>28</td>\n      <td>2342.0</td>\n      <td>2352</td>\n      <td>-10.0</td>\n      <td>413.0</td>\n      <td>437</td>\n      <td>-24.0</td>\n      <td>...</td>\n      <td>N656JB</td>\n      <td>JFK</td>\n      <td>PSE</td>\n      <td>193.0</td>\n      <td>1617</td>\n      <td>23</td>\n      <td>52</td>\n      <td>2013-02-28 23:00:00</td>\n      <td>JetBlue Airways</td>\n      <td>2601.753</td>\n    </tr>\n    <tr>\n      <th>136235</th>\n      <td>136235</td>\n      <td>2013</td>\n      <td>2</td>\n      <td>28</td>\n      <td>2356.0</td>\n      <td>2358</td>\n      <td>-2.0</td>\n      <td>423.0</td>\n      <td>438</td>\n      <td>-15.0</td>\n      <td>...</td>\n      <td>N646JB</td>\n      <td>JFK</td>\n      <td>SJU</td>\n      <td>192.0</td>\n      <td>1598</td>\n      <td>23</td>\n      <td>58</td>\n      <td>2013-02-28 23:00:00</td>\n      <td>JetBlue Airways</td>\n      <td>2571.182</td>\n    </tr>\n    <tr>\n      <th>136236</th>\n      <td>136236</td>\n      <td>2013</td>\n      <td>2</td>\n      <td>28</td>\n      <td>2359.0</td>\n      <td>2359</td>\n      <td>0.0</td>\n      <td>443.0</td>\n      <td>438</td>\n      <td>5.0</td>\n      <td>...</td>\n      <td>N641JB</td>\n      <td>JFK</td>\n      <td>BQN</td>\n      <td>192.0</td>\n      <td>1576</td>\n      <td>23</td>\n      <td>59</td>\n      <td>2013-02-28 23:00:00</td>\n      <td>JetBlue Airways</td>\n      <td>2535.784</td>\n    </tr>\n  </tbody>\n</table>\n<p>953 rows × 22 columns</p>\n</div>"
     },
     "execution_count": 68,
     "metadata": {},
     "output_type": "execute_result"
    }
   ],
   "source": [
    "df_flights[(df_flights['month']==2) & (df_flights['day']==28)]"
   ],
   "metadata": {
    "collapsed": false
   },
   "id": "fa5d6d32099429b4"
  },
  {
   "cell_type": "code",
   "execution_count": null,
   "outputs": [],
   "source": [
    "######################################################################################"
   ],
   "metadata": {
    "collapsed": false,
    "ExecuteTime": {
     "end_time": "2023-08-10T09:19:16.581094600Z",
     "start_time": "2023-08-10T09:19:16.499553900Z"
    }
   },
   "id": "2c883ceb5a340b8e"
  },
  {
   "cell_type": "markdown",
   "source": [
    "Wyświetl ilość lotów która odbyła się w marcu"
   ],
   "metadata": {
    "collapsed": false
   },
   "id": "e24783327faaea52"
  },
  {
   "cell_type": "code",
   "execution_count": 70,
   "outputs": [
    {
     "data": {
      "text/plain": "0"
     },
     "execution_count": 70,
     "metadata": {},
     "output_type": "execute_result"
    }
   ],
   "source": [
    "df_flights[(df_flights['month']==30)].size\n"
   ],
   "metadata": {
    "collapsed": false
   },
   "id": "b560c832e2bf5577"
  },
  {
   "cell_type": "code",
   "execution_count": null,
   "outputs": [],
   "source": [
    "######################################################################################"
   ],
   "metadata": {
    "collapsed": false,
    "ExecuteTime": {
     "end_time": "2023-08-10T09:19:16.651629Z",
     "start_time": "2023-08-10T09:19:16.547105300Z"
    }
   },
   "id": "53c23f00b7c41021"
  },
  {
   "cell_type": "markdown",
   "source": [
    "Wyświetl wszystkie nazwy lini lotniczych"
   ],
   "metadata": {
    "collapsed": false
   },
   "id": "3582acdae5cec2f9"
  },
  {
   "cell_type": "code",
   "execution_count": 47,
   "outputs": [
    {
     "ename": "TypeError",
     "evalue": "'method' object is not subscriptable",
     "output_type": "error",
     "traceback": [
      "\u001B[1;31m---------------------------------------------------------------------------\u001B[0m",
      "\u001B[1;31mTypeError\u001B[0m                                 Traceback (most recent call last)",
      "Cell \u001B[1;32mIn[47], line 1\u001B[0m\n\u001B[1;32m----> 1\u001B[0m \u001B[43mdf_flights\u001B[49m\u001B[38;5;241;43m.\u001B[39;49m\u001B[43mgroupby\u001B[49m\u001B[43m[\u001B[49m\u001B[38;5;124;43m'\u001B[39;49m\u001B[38;5;124;43mname\u001B[39;49m\u001B[38;5;124;43m'\u001B[39;49m\u001B[43m]\u001B[49m\n\u001B[0;32m      2\u001B[0m df_flights\n",
      "\u001B[1;31mTypeError\u001B[0m: 'method' object is not subscriptable"
     ]
    }
   ],
   "source": [
    "df_flights.groupby['name']\n",
    "df_flights"
   ],
   "metadata": {
    "collapsed": false
   },
   "id": "78c4b1ba18098d2e"
  },
  {
   "cell_type": "code",
   "execution_count": null,
   "outputs": [],
   "source": [
    "######################################################################################"
   ],
   "metadata": {
    "collapsed": false,
    "ExecuteTime": {
     "end_time": "2023-08-10T09:19:16.785154600Z",
     "start_time": "2023-08-10T09:19:16.580094900Z"
    }
   },
   "id": "79640511e138264f"
  },
  {
   "cell_type": "markdown",
   "source": [
    "Wyświetl 10 najdłuższych lotów (dinstance_km)"
   ],
   "metadata": {
    "collapsed": false
   },
   "id": "5defe43da1583c2d"
  },
  {
   "cell_type": "code",
   "execution_count": 71,
   "outputs": [
    {
     "data": {
      "text/plain": "            id  year  month  day  dep_time  sched_dep_time  dep_delay  \\\n58763    58763  2013     11    4    1002.0            1000        2.0   \n251679  251679  2013      7    2     952.0            1000       -8.0   \n194662  194662  2013      5    2     953.0            1000       -7.0   \n14226    14226  2013      1   17     859.0             900       -1.0   \n290629  290629  2013      8   12     953.0            1000       -7.0   \n97219    97219  2013     12   16     929.0             930       -1.0   \n109803  109803  2013     12   30     923.0             930       -7.0   \n211295  211295  2013      5   20    1002.0            1000        2.0   \n180546  180546  2013      4   17     959.0            1000       -1.0   \n120050  120050  2013      2   11     857.0             900       -3.0   \n\n        arr_time  sched_arr_time  arr_delay  ... tailnum  origin dest  \\\n58763     1558.0            1555        3.0  ...  N393HA     JFK  HNL   \n251679    1402.0            1430      -28.0  ...  N383HA     JFK  HNL   \n194662    1423.0            1500      -37.0  ...  N385HA     JFK  HNL   \n14226     1513.0            1530      -17.0  ...  N381HA     JFK  HNL   \n290629    1444.0            1440        4.0  ...  N384HA     JFK  HNL   \n97219     1514.0            1535      -21.0  ...  N388HA     JFK  HNL   \n109803    1536.0            1535        1.0  ...  N393HA     JFK  HNL   \n211295    1503.0            1500        3.0  ...  N384HA     JFK  HNL   \n180546    1440.0            1510      -30.0  ...  N386HA     JFK  HNL   \n120050    1430.0            1540      -70.0  ...  N389HA     JFK  HNL   \n\n       air_time distance  hour  minute            time_hour  \\\n58763     636.0     4983    10       0  2013-11-04 10:00:00   \n251679    590.0     4983    10       0  2013-07-02 10:00:00   \n194662    603.0     4983    10       0  2013-05-02 10:00:00   \n14226     648.0     4983     9       0  2013-01-17 09:00:00   \n290629    630.0     4983    10       0  2013-08-12 10:00:00   \n97219     630.0     4983     9      30  2013-12-16 09:00:00   \n109803    644.0     4983     9      30  2013-12-30 09:00:00   \n211295    637.0     4983    10       0  2013-05-20 10:00:00   \n180546    621.0     4983    10       0  2013-04-17 10:00:00   \n120050    601.0     4983     9       0  2013-02-11 09:00:00   \n\n                          name distance_km  \n58763   Hawaiian Airlines Inc.    8017.647  \n251679  Hawaiian Airlines Inc.    8017.647  \n194662  Hawaiian Airlines Inc.    8017.647  \n14226   Hawaiian Airlines Inc.    8017.647  \n290629  Hawaiian Airlines Inc.    8017.647  \n97219   Hawaiian Airlines Inc.    8017.647  \n109803  Hawaiian Airlines Inc.    8017.647  \n211295  Hawaiian Airlines Inc.    8017.647  \n180546  Hawaiian Airlines Inc.    8017.647  \n120050  Hawaiian Airlines Inc.    8017.647  \n\n[10 rows x 22 columns]",
      "text/html": "<div>\n<style scoped>\n    .dataframe tbody tr th:only-of-type {\n        vertical-align: middle;\n    }\n\n    .dataframe tbody tr th {\n        vertical-align: top;\n    }\n\n    .dataframe thead th {\n        text-align: right;\n    }\n</style>\n<table border=\"1\" class=\"dataframe\">\n  <thead>\n    <tr style=\"text-align: right;\">\n      <th></th>\n      <th>id</th>\n      <th>year</th>\n      <th>month</th>\n      <th>day</th>\n      <th>dep_time</th>\n      <th>sched_dep_time</th>\n      <th>dep_delay</th>\n      <th>arr_time</th>\n      <th>sched_arr_time</th>\n      <th>arr_delay</th>\n      <th>...</th>\n      <th>tailnum</th>\n      <th>origin</th>\n      <th>dest</th>\n      <th>air_time</th>\n      <th>distance</th>\n      <th>hour</th>\n      <th>minute</th>\n      <th>time_hour</th>\n      <th>name</th>\n      <th>distance_km</th>\n    </tr>\n  </thead>\n  <tbody>\n    <tr>\n      <th>58763</th>\n      <td>58763</td>\n      <td>2013</td>\n      <td>11</td>\n      <td>4</td>\n      <td>1002.0</td>\n      <td>1000</td>\n      <td>2.0</td>\n      <td>1558.0</td>\n      <td>1555</td>\n      <td>3.0</td>\n      <td>...</td>\n      <td>N393HA</td>\n      <td>JFK</td>\n      <td>HNL</td>\n      <td>636.0</td>\n      <td>4983</td>\n      <td>10</td>\n      <td>0</td>\n      <td>2013-11-04 10:00:00</td>\n      <td>Hawaiian Airlines Inc.</td>\n      <td>8017.647</td>\n    </tr>\n    <tr>\n      <th>251679</th>\n      <td>251679</td>\n      <td>2013</td>\n      <td>7</td>\n      <td>2</td>\n      <td>952.0</td>\n      <td>1000</td>\n      <td>-8.0</td>\n      <td>1402.0</td>\n      <td>1430</td>\n      <td>-28.0</td>\n      <td>...</td>\n      <td>N383HA</td>\n      <td>JFK</td>\n      <td>HNL</td>\n      <td>590.0</td>\n      <td>4983</td>\n      <td>10</td>\n      <td>0</td>\n      <td>2013-07-02 10:00:00</td>\n      <td>Hawaiian Airlines Inc.</td>\n      <td>8017.647</td>\n    </tr>\n    <tr>\n      <th>194662</th>\n      <td>194662</td>\n      <td>2013</td>\n      <td>5</td>\n      <td>2</td>\n      <td>953.0</td>\n      <td>1000</td>\n      <td>-7.0</td>\n      <td>1423.0</td>\n      <td>1500</td>\n      <td>-37.0</td>\n      <td>...</td>\n      <td>N385HA</td>\n      <td>JFK</td>\n      <td>HNL</td>\n      <td>603.0</td>\n      <td>4983</td>\n      <td>10</td>\n      <td>0</td>\n      <td>2013-05-02 10:00:00</td>\n      <td>Hawaiian Airlines Inc.</td>\n      <td>8017.647</td>\n    </tr>\n    <tr>\n      <th>14226</th>\n      <td>14226</td>\n      <td>2013</td>\n      <td>1</td>\n      <td>17</td>\n      <td>859.0</td>\n      <td>900</td>\n      <td>-1.0</td>\n      <td>1513.0</td>\n      <td>1530</td>\n      <td>-17.0</td>\n      <td>...</td>\n      <td>N381HA</td>\n      <td>JFK</td>\n      <td>HNL</td>\n      <td>648.0</td>\n      <td>4983</td>\n      <td>9</td>\n      <td>0</td>\n      <td>2013-01-17 09:00:00</td>\n      <td>Hawaiian Airlines Inc.</td>\n      <td>8017.647</td>\n    </tr>\n    <tr>\n      <th>290629</th>\n      <td>290629</td>\n      <td>2013</td>\n      <td>8</td>\n      <td>12</td>\n      <td>953.0</td>\n      <td>1000</td>\n      <td>-7.0</td>\n      <td>1444.0</td>\n      <td>1440</td>\n      <td>4.0</td>\n      <td>...</td>\n      <td>N384HA</td>\n      <td>JFK</td>\n      <td>HNL</td>\n      <td>630.0</td>\n      <td>4983</td>\n      <td>10</td>\n      <td>0</td>\n      <td>2013-08-12 10:00:00</td>\n      <td>Hawaiian Airlines Inc.</td>\n      <td>8017.647</td>\n    </tr>\n    <tr>\n      <th>97219</th>\n      <td>97219</td>\n      <td>2013</td>\n      <td>12</td>\n      <td>16</td>\n      <td>929.0</td>\n      <td>930</td>\n      <td>-1.0</td>\n      <td>1514.0</td>\n      <td>1535</td>\n      <td>-21.0</td>\n      <td>...</td>\n      <td>N388HA</td>\n      <td>JFK</td>\n      <td>HNL</td>\n      <td>630.0</td>\n      <td>4983</td>\n      <td>9</td>\n      <td>30</td>\n      <td>2013-12-16 09:00:00</td>\n      <td>Hawaiian Airlines Inc.</td>\n      <td>8017.647</td>\n    </tr>\n    <tr>\n      <th>109803</th>\n      <td>109803</td>\n      <td>2013</td>\n      <td>12</td>\n      <td>30</td>\n      <td>923.0</td>\n      <td>930</td>\n      <td>-7.0</td>\n      <td>1536.0</td>\n      <td>1535</td>\n      <td>1.0</td>\n      <td>...</td>\n      <td>N393HA</td>\n      <td>JFK</td>\n      <td>HNL</td>\n      <td>644.0</td>\n      <td>4983</td>\n      <td>9</td>\n      <td>30</td>\n      <td>2013-12-30 09:00:00</td>\n      <td>Hawaiian Airlines Inc.</td>\n      <td>8017.647</td>\n    </tr>\n    <tr>\n      <th>211295</th>\n      <td>211295</td>\n      <td>2013</td>\n      <td>5</td>\n      <td>20</td>\n      <td>1002.0</td>\n      <td>1000</td>\n      <td>2.0</td>\n      <td>1503.0</td>\n      <td>1500</td>\n      <td>3.0</td>\n      <td>...</td>\n      <td>N384HA</td>\n      <td>JFK</td>\n      <td>HNL</td>\n      <td>637.0</td>\n      <td>4983</td>\n      <td>10</td>\n      <td>0</td>\n      <td>2013-05-20 10:00:00</td>\n      <td>Hawaiian Airlines Inc.</td>\n      <td>8017.647</td>\n    </tr>\n    <tr>\n      <th>180546</th>\n      <td>180546</td>\n      <td>2013</td>\n      <td>4</td>\n      <td>17</td>\n      <td>959.0</td>\n      <td>1000</td>\n      <td>-1.0</td>\n      <td>1440.0</td>\n      <td>1510</td>\n      <td>-30.0</td>\n      <td>...</td>\n      <td>N386HA</td>\n      <td>JFK</td>\n      <td>HNL</td>\n      <td>621.0</td>\n      <td>4983</td>\n      <td>10</td>\n      <td>0</td>\n      <td>2013-04-17 10:00:00</td>\n      <td>Hawaiian Airlines Inc.</td>\n      <td>8017.647</td>\n    </tr>\n    <tr>\n      <th>120050</th>\n      <td>120050</td>\n      <td>2013</td>\n      <td>2</td>\n      <td>11</td>\n      <td>857.0</td>\n      <td>900</td>\n      <td>-3.0</td>\n      <td>1430.0</td>\n      <td>1540</td>\n      <td>-70.0</td>\n      <td>...</td>\n      <td>N389HA</td>\n      <td>JFK</td>\n      <td>HNL</td>\n      <td>601.0</td>\n      <td>4983</td>\n      <td>9</td>\n      <td>0</td>\n      <td>2013-02-11 09:00:00</td>\n      <td>Hawaiian Airlines Inc.</td>\n      <td>8017.647</td>\n    </tr>\n  </tbody>\n</table>\n<p>10 rows × 22 columns</p>\n</div>"
     },
     "execution_count": 71,
     "metadata": {},
     "output_type": "execute_result"
    }
   ],
   "source": [
    "df_flights.sort_values('distance_km', ascending=False).head(10)"
   ],
   "metadata": {
    "collapsed": false
   },
   "id": "68449b2f3c0a54ad"
  },
  {
   "cell_type": "code",
   "execution_count": null,
   "outputs": [],
   "source": [
    "######################################################################################"
   ],
   "metadata": {
    "collapsed": false,
    "ExecuteTime": {
     "end_time": "2023-08-10T09:19:57.320098300Z",
     "start_time": "2023-08-10T09:19:57.138221300Z"
    }
   },
   "id": "19b66304d0cafb08"
  },
  {
   "cell_type": "markdown",
   "source": [
    "Wyświetl loty trwające od 1 do 2 godzin"
   ],
   "metadata": {
    "collapsed": false
   },
   "id": "7f276f28158522e8"
  },
  {
   "cell_type": "code",
   "execution_count": 73,
   "outputs": [
    {
     "data": {
      "text/plain": "            id  year  month  day  dep_time  sched_dep_time  dep_delay  \\\n4            4  2013      1    1     554.0             600       -6.0   \n21          21  2013      1    1     602.0             605       -3.0   \n40          40  2013      1    1     629.0             630       -1.0   \n46          46  2013      1    1     643.0             645       -2.0   \n48          48  2013      1    1     645.0             647       -2.0   \n...        ...   ...    ...  ...       ...             ...        ...   \n336741  336741  2013      9   30    2116.0            2124       -8.0   \n336743  336743  2013      9   30    2119.0            2120       -1.0   \n336747  336747  2013      9   30    2127.0            2129       -2.0   \n336758  336758  2013      9   30    2203.0            2205       -2.0   \n336759  336759  2013      9   30    2207.0            2140       27.0   \n\n        arr_time  sched_arr_time  arr_delay  ... tailnum  origin dest  \\\n4          812.0             837      -25.0  ...  N668DN     LGA  ATL   \n21         821.0             805       16.0  ...  N730MQ     LGA  DTW   \n40         824.0             833       -9.0  ...  N426US     EWR  CLT   \n46         837.0             848      -11.0  ...  N178US     EWR  CLT   \n48         815.0             810        5.0  ...  N796JB     JFK  BUF   \n...          ...             ...        ...  ...     ...     ...  ...   \n336741    2317.0            2337      -20.0  ...  N14542     EWR  SDF   \n336743    2330.0            2354      -24.0  ...  N358JB     JFK  JAX   \n336747    2314.0            2323       -9.0  ...  N16546     EWR  CLT   \n336758    2339.0            2331        8.0  ...  N722EV     LGA  BGR   \n336759    2257.0            2250        7.0  ...  N532MQ     LGA  BNA   \n\n       air_time distance  hour  minute            time_hour  \\\n4         116.0      762     6       0  2013-01-01 06:00:00   \n21        105.0      502     6       5  2013-01-01 06:00:00   \n40         91.0      529     6      30  2013-01-01 06:00:00   \n46         91.0      529     6      45  2013-01-01 06:00:00   \n48         63.0      301     6      47  2013-01-01 06:00:00   \n...         ...      ...   ...     ...                  ...   \n336741     94.0      642    21      24  2013-09-30 21:00:00   \n336743    113.0      828    21      20  2013-09-30 21:00:00   \n336747     72.0      529    21      29  2013-09-30 21:00:00   \n336758     61.0      378    22       5  2013-09-30 22:00:00   \n336759     97.0      764    21      40  2013-09-30 21:00:00   \n\n                            name distance_km  \n4           Delta Air Lines Inc.    1226.058  \n21                     Envoy Air     807.718  \n40               US Airways Inc.     851.161  \n46               US Airways Inc.     851.161  \n48               JetBlue Airways     484.309  \n...                          ...         ...  \n336741  ExpressJet Airlines Inc.    1032.978  \n336743           JetBlue Airways    1332.252  \n336747  ExpressJet Airlines Inc.     851.161  \n336758  ExpressJet Airlines Inc.     608.202  \n336759                 Envoy Air    1229.276  \n\n[93782 rows x 22 columns]",
      "text/html": "<div>\n<style scoped>\n    .dataframe tbody tr th:only-of-type {\n        vertical-align: middle;\n    }\n\n    .dataframe tbody tr th {\n        vertical-align: top;\n    }\n\n    .dataframe thead th {\n        text-align: right;\n    }\n</style>\n<table border=\"1\" class=\"dataframe\">\n  <thead>\n    <tr style=\"text-align: right;\">\n      <th></th>\n      <th>id</th>\n      <th>year</th>\n      <th>month</th>\n      <th>day</th>\n      <th>dep_time</th>\n      <th>sched_dep_time</th>\n      <th>dep_delay</th>\n      <th>arr_time</th>\n      <th>sched_arr_time</th>\n      <th>arr_delay</th>\n      <th>...</th>\n      <th>tailnum</th>\n      <th>origin</th>\n      <th>dest</th>\n      <th>air_time</th>\n      <th>distance</th>\n      <th>hour</th>\n      <th>minute</th>\n      <th>time_hour</th>\n      <th>name</th>\n      <th>distance_km</th>\n    </tr>\n  </thead>\n  <tbody>\n    <tr>\n      <th>4</th>\n      <td>4</td>\n      <td>2013</td>\n      <td>1</td>\n      <td>1</td>\n      <td>554.0</td>\n      <td>600</td>\n      <td>-6.0</td>\n      <td>812.0</td>\n      <td>837</td>\n      <td>-25.0</td>\n      <td>...</td>\n      <td>N668DN</td>\n      <td>LGA</td>\n      <td>ATL</td>\n      <td>116.0</td>\n      <td>762</td>\n      <td>6</td>\n      <td>0</td>\n      <td>2013-01-01 06:00:00</td>\n      <td>Delta Air Lines Inc.</td>\n      <td>1226.058</td>\n    </tr>\n    <tr>\n      <th>21</th>\n      <td>21</td>\n      <td>2013</td>\n      <td>1</td>\n      <td>1</td>\n      <td>602.0</td>\n      <td>605</td>\n      <td>-3.0</td>\n      <td>821.0</td>\n      <td>805</td>\n      <td>16.0</td>\n      <td>...</td>\n      <td>N730MQ</td>\n      <td>LGA</td>\n      <td>DTW</td>\n      <td>105.0</td>\n      <td>502</td>\n      <td>6</td>\n      <td>5</td>\n      <td>2013-01-01 06:00:00</td>\n      <td>Envoy Air</td>\n      <td>807.718</td>\n    </tr>\n    <tr>\n      <th>40</th>\n      <td>40</td>\n      <td>2013</td>\n      <td>1</td>\n      <td>1</td>\n      <td>629.0</td>\n      <td>630</td>\n      <td>-1.0</td>\n      <td>824.0</td>\n      <td>833</td>\n      <td>-9.0</td>\n      <td>...</td>\n      <td>N426US</td>\n      <td>EWR</td>\n      <td>CLT</td>\n      <td>91.0</td>\n      <td>529</td>\n      <td>6</td>\n      <td>30</td>\n      <td>2013-01-01 06:00:00</td>\n      <td>US Airways Inc.</td>\n      <td>851.161</td>\n    </tr>\n    <tr>\n      <th>46</th>\n      <td>46</td>\n      <td>2013</td>\n      <td>1</td>\n      <td>1</td>\n      <td>643.0</td>\n      <td>645</td>\n      <td>-2.0</td>\n      <td>837.0</td>\n      <td>848</td>\n      <td>-11.0</td>\n      <td>...</td>\n      <td>N178US</td>\n      <td>EWR</td>\n      <td>CLT</td>\n      <td>91.0</td>\n      <td>529</td>\n      <td>6</td>\n      <td>45</td>\n      <td>2013-01-01 06:00:00</td>\n      <td>US Airways Inc.</td>\n      <td>851.161</td>\n    </tr>\n    <tr>\n      <th>48</th>\n      <td>48</td>\n      <td>2013</td>\n      <td>1</td>\n      <td>1</td>\n      <td>645.0</td>\n      <td>647</td>\n      <td>-2.0</td>\n      <td>815.0</td>\n      <td>810</td>\n      <td>5.0</td>\n      <td>...</td>\n      <td>N796JB</td>\n      <td>JFK</td>\n      <td>BUF</td>\n      <td>63.0</td>\n      <td>301</td>\n      <td>6</td>\n      <td>47</td>\n      <td>2013-01-01 06:00:00</td>\n      <td>JetBlue Airways</td>\n      <td>484.309</td>\n    </tr>\n    <tr>\n      <th>...</th>\n      <td>...</td>\n      <td>...</td>\n      <td>...</td>\n      <td>...</td>\n      <td>...</td>\n      <td>...</td>\n      <td>...</td>\n      <td>...</td>\n      <td>...</td>\n      <td>...</td>\n      <td>...</td>\n      <td>...</td>\n      <td>...</td>\n      <td>...</td>\n      <td>...</td>\n      <td>...</td>\n      <td>...</td>\n      <td>...</td>\n      <td>...</td>\n      <td>...</td>\n      <td>...</td>\n    </tr>\n    <tr>\n      <th>336741</th>\n      <td>336741</td>\n      <td>2013</td>\n      <td>9</td>\n      <td>30</td>\n      <td>2116.0</td>\n      <td>2124</td>\n      <td>-8.0</td>\n      <td>2317.0</td>\n      <td>2337</td>\n      <td>-20.0</td>\n      <td>...</td>\n      <td>N14542</td>\n      <td>EWR</td>\n      <td>SDF</td>\n      <td>94.0</td>\n      <td>642</td>\n      <td>21</td>\n      <td>24</td>\n      <td>2013-09-30 21:00:00</td>\n      <td>ExpressJet Airlines Inc.</td>\n      <td>1032.978</td>\n    </tr>\n    <tr>\n      <th>336743</th>\n      <td>336743</td>\n      <td>2013</td>\n      <td>9</td>\n      <td>30</td>\n      <td>2119.0</td>\n      <td>2120</td>\n      <td>-1.0</td>\n      <td>2330.0</td>\n      <td>2354</td>\n      <td>-24.0</td>\n      <td>...</td>\n      <td>N358JB</td>\n      <td>JFK</td>\n      <td>JAX</td>\n      <td>113.0</td>\n      <td>828</td>\n      <td>21</td>\n      <td>20</td>\n      <td>2013-09-30 21:00:00</td>\n      <td>JetBlue Airways</td>\n      <td>1332.252</td>\n    </tr>\n    <tr>\n      <th>336747</th>\n      <td>336747</td>\n      <td>2013</td>\n      <td>9</td>\n      <td>30</td>\n      <td>2127.0</td>\n      <td>2129</td>\n      <td>-2.0</td>\n      <td>2314.0</td>\n      <td>2323</td>\n      <td>-9.0</td>\n      <td>...</td>\n      <td>N16546</td>\n      <td>EWR</td>\n      <td>CLT</td>\n      <td>72.0</td>\n      <td>529</td>\n      <td>21</td>\n      <td>29</td>\n      <td>2013-09-30 21:00:00</td>\n      <td>ExpressJet Airlines Inc.</td>\n      <td>851.161</td>\n    </tr>\n    <tr>\n      <th>336758</th>\n      <td>336758</td>\n      <td>2013</td>\n      <td>9</td>\n      <td>30</td>\n      <td>2203.0</td>\n      <td>2205</td>\n      <td>-2.0</td>\n      <td>2339.0</td>\n      <td>2331</td>\n      <td>8.0</td>\n      <td>...</td>\n      <td>N722EV</td>\n      <td>LGA</td>\n      <td>BGR</td>\n      <td>61.0</td>\n      <td>378</td>\n      <td>22</td>\n      <td>5</td>\n      <td>2013-09-30 22:00:00</td>\n      <td>ExpressJet Airlines Inc.</td>\n      <td>608.202</td>\n    </tr>\n    <tr>\n      <th>336759</th>\n      <td>336759</td>\n      <td>2013</td>\n      <td>9</td>\n      <td>30</td>\n      <td>2207.0</td>\n      <td>2140</td>\n      <td>27.0</td>\n      <td>2257.0</td>\n      <td>2250</td>\n      <td>7.0</td>\n      <td>...</td>\n      <td>N532MQ</td>\n      <td>LGA</td>\n      <td>BNA</td>\n      <td>97.0</td>\n      <td>764</td>\n      <td>21</td>\n      <td>40</td>\n      <td>2013-09-30 21:00:00</td>\n      <td>Envoy Air</td>\n      <td>1229.276</td>\n    </tr>\n  </tbody>\n</table>\n<p>93782 rows × 22 columns</p>\n</div>"
     },
     "execution_count": 73,
     "metadata": {},
     "output_type": "execute_result"
    }
   ],
   "source": [
    "df_flights[(df_flights['air_time'] > 60) & (df_flights['air_time'] < 120)]"
   ],
   "metadata": {
    "collapsed": false
   },
   "id": "2f0fa2dec5b09065"
  },
  {
   "cell_type": "code",
   "execution_count": null,
   "outputs": [],
   "source": [
    "######################################################################################"
   ],
   "metadata": {
    "collapsed": false,
    "ExecuteTime": {
     "end_time": "2023-08-10T09:26:46.690676100Z",
     "start_time": "2023-08-10T09:26:46.582661Z"
    }
   },
   "id": "533f84d1adea1444"
  },
  {
   "cell_type": "markdown",
   "source": [
    "Wyświetl do jakich lotnisk były wykonywane loty z lotniska LGA"
   ],
   "metadata": {
    "collapsed": false
   },
   "id": "b5c6c0bebc986b8e"
  },
  {
   "cell_type": "code",
   "execution_count": 82,
   "outputs": [
    {
     "data": {
      "text/plain": "array(['IAH', 'ATL', 'IAD', 'ORD', 'DFW', 'FLL', 'MSP', 'DTW', 'MIA',\n       'BWI', 'MCO', 'DEN', 'PBI', 'XNA', 'MKE', 'RSW', 'TPA', 'CLT',\n       'CMH', 'CLE', 'STL', 'RDU', 'BNA', 'PHL', 'MDW', 'SRQ', 'DCA',\n       'CAK', 'MSY', 'BOS', 'MEM', 'BUF', 'PIT', 'MCI', 'CRW', 'CVG',\n       'RIC', 'ROC', 'TYS', 'BHM', 'PWM', 'GRR', 'EYW', 'GSO', 'HOU',\n       'JAX', 'BTV', 'CHS', 'SAV', 'SDF', 'IND', 'DAY', 'BGR', 'MSN',\n       'ORF', 'OMA', 'DSM', 'GSP', 'ILM', 'SYR', 'SBN', 'LEX', 'MHT',\n       'CAE', 'CHO', 'AVL', 'TVC', 'MYR'], dtype=object)"
     },
     "execution_count": 82,
     "metadata": {},
     "output_type": "execute_result"
    }
   ],
   "source": [
    "df_flights[df_flights['origin'] =='LGA']['dest'].unique()"
   ],
   "metadata": {
    "collapsed": false
   },
   "id": "7129480763c67325"
  },
  {
   "cell_type": "code",
   "execution_count": null,
   "outputs": [],
   "source": [
    "######################################################################################"
   ],
   "metadata": {
    "collapsed": false,
    "ExecuteTime": {
     "end_time": "2023-08-10T09:31:05.752541700Z",
     "start_time": "2023-08-10T09:31:05.675018300Z"
    }
   },
   "id": "8183c3ca39462232"
  },
  {
   "cell_type": "markdown",
   "source": [
    "Wyświetl 5 lotów z największymi opóźnieniami odlotu"
   ],
   "metadata": {
    "collapsed": false
   },
   "id": "47888ddf887b9606"
  },
  {
   "cell_type": "code",
   "execution_count": 75,
   "outputs": [
    {
     "data": {
      "text/plain": "            id  year  month  day  dep_time  sched_dep_time  dep_delay  \\\n7072      7072  2013      1    9     641.0             900     1301.0   \n235778  235778  2013      6   15    1432.0            1935     1137.0   \n8239      8239  2013      1   10    1121.0            1635     1126.0   \n327043  327043  2013      9   20    1139.0            1845     1014.0   \n270376  270376  2013      7   22     845.0            1600     1005.0   \n\n        arr_time  sched_arr_time  arr_delay  ... tailnum  origin dest  \\\n7072      1242.0            1530     1272.0  ...  N384HA     JFK  HNL   \n235778    1607.0            2120     1127.0  ...  N504MQ     JFK  CMH   \n8239      1239.0            1810     1109.0  ...  N517MQ     EWR  ORD   \n327043    1457.0            2210     1007.0  ...  N338AA     JFK  SFO   \n270376    1044.0            1815      989.0  ...  N665MQ     JFK  CVG   \n\n       air_time distance  hour  minute            time_hour  \\\n7072      640.0     4983     9       0  2013-01-09 09:00:00   \n235778     74.0      483    19      35  2013-06-15 19:00:00   \n8239      111.0      719    16      35  2013-01-10 16:00:00   \n327043    354.0     2586    18      45  2013-09-20 18:00:00   \n270376     96.0      589    16       0  2013-07-22 16:00:00   \n\n                          name distance_km  \n7072    Hawaiian Airlines Inc.    8017.647  \n235778               Envoy Air     777.147  \n8239                 Envoy Air    1156.871  \n327043  American Airlines Inc.    4160.874  \n270376               Envoy Air     947.701  \n\n[5 rows x 22 columns]",
      "text/html": "<div>\n<style scoped>\n    .dataframe tbody tr th:only-of-type {\n        vertical-align: middle;\n    }\n\n    .dataframe tbody tr th {\n        vertical-align: top;\n    }\n\n    .dataframe thead th {\n        text-align: right;\n    }\n</style>\n<table border=\"1\" class=\"dataframe\">\n  <thead>\n    <tr style=\"text-align: right;\">\n      <th></th>\n      <th>id</th>\n      <th>year</th>\n      <th>month</th>\n      <th>day</th>\n      <th>dep_time</th>\n      <th>sched_dep_time</th>\n      <th>dep_delay</th>\n      <th>arr_time</th>\n      <th>sched_arr_time</th>\n      <th>arr_delay</th>\n      <th>...</th>\n      <th>tailnum</th>\n      <th>origin</th>\n      <th>dest</th>\n      <th>air_time</th>\n      <th>distance</th>\n      <th>hour</th>\n      <th>minute</th>\n      <th>time_hour</th>\n      <th>name</th>\n      <th>distance_km</th>\n    </tr>\n  </thead>\n  <tbody>\n    <tr>\n      <th>7072</th>\n      <td>7072</td>\n      <td>2013</td>\n      <td>1</td>\n      <td>9</td>\n      <td>641.0</td>\n      <td>900</td>\n      <td>1301.0</td>\n      <td>1242.0</td>\n      <td>1530</td>\n      <td>1272.0</td>\n      <td>...</td>\n      <td>N384HA</td>\n      <td>JFK</td>\n      <td>HNL</td>\n      <td>640.0</td>\n      <td>4983</td>\n      <td>9</td>\n      <td>0</td>\n      <td>2013-01-09 09:00:00</td>\n      <td>Hawaiian Airlines Inc.</td>\n      <td>8017.647</td>\n    </tr>\n    <tr>\n      <th>235778</th>\n      <td>235778</td>\n      <td>2013</td>\n      <td>6</td>\n      <td>15</td>\n      <td>1432.0</td>\n      <td>1935</td>\n      <td>1137.0</td>\n      <td>1607.0</td>\n      <td>2120</td>\n      <td>1127.0</td>\n      <td>...</td>\n      <td>N504MQ</td>\n      <td>JFK</td>\n      <td>CMH</td>\n      <td>74.0</td>\n      <td>483</td>\n      <td>19</td>\n      <td>35</td>\n      <td>2013-06-15 19:00:00</td>\n      <td>Envoy Air</td>\n      <td>777.147</td>\n    </tr>\n    <tr>\n      <th>8239</th>\n      <td>8239</td>\n      <td>2013</td>\n      <td>1</td>\n      <td>10</td>\n      <td>1121.0</td>\n      <td>1635</td>\n      <td>1126.0</td>\n      <td>1239.0</td>\n      <td>1810</td>\n      <td>1109.0</td>\n      <td>...</td>\n      <td>N517MQ</td>\n      <td>EWR</td>\n      <td>ORD</td>\n      <td>111.0</td>\n      <td>719</td>\n      <td>16</td>\n      <td>35</td>\n      <td>2013-01-10 16:00:00</td>\n      <td>Envoy Air</td>\n      <td>1156.871</td>\n    </tr>\n    <tr>\n      <th>327043</th>\n      <td>327043</td>\n      <td>2013</td>\n      <td>9</td>\n      <td>20</td>\n      <td>1139.0</td>\n      <td>1845</td>\n      <td>1014.0</td>\n      <td>1457.0</td>\n      <td>2210</td>\n      <td>1007.0</td>\n      <td>...</td>\n      <td>N338AA</td>\n      <td>JFK</td>\n      <td>SFO</td>\n      <td>354.0</td>\n      <td>2586</td>\n      <td>18</td>\n      <td>45</td>\n      <td>2013-09-20 18:00:00</td>\n      <td>American Airlines Inc.</td>\n      <td>4160.874</td>\n    </tr>\n    <tr>\n      <th>270376</th>\n      <td>270376</td>\n      <td>2013</td>\n      <td>7</td>\n      <td>22</td>\n      <td>845.0</td>\n      <td>1600</td>\n      <td>1005.0</td>\n      <td>1044.0</td>\n      <td>1815</td>\n      <td>989.0</td>\n      <td>...</td>\n      <td>N665MQ</td>\n      <td>JFK</td>\n      <td>CVG</td>\n      <td>96.0</td>\n      <td>589</td>\n      <td>16</td>\n      <td>0</td>\n      <td>2013-07-22 16:00:00</td>\n      <td>Envoy Air</td>\n      <td>947.701</td>\n    </tr>\n  </tbody>\n</table>\n<p>5 rows × 22 columns</p>\n</div>"
     },
     "execution_count": 75,
     "metadata": {},
     "output_type": "execute_result"
    }
   ],
   "source": [
    "df_flights.sort_values('dep_delay', ascending=False).head(5)"
   ],
   "metadata": {
    "collapsed": false
   },
   "id": "23589a2b261734a7"
  },
  {
   "cell_type": "code",
   "execution_count": null,
   "outputs": [],
   "source": [
    "######################################################################################"
   ],
   "metadata": {
    "collapsed": false,
    "ExecuteTime": {
     "end_time": "2023-08-10T09:40:11.922234Z",
     "start_time": "2023-08-10T09:40:11.784572700Z"
    }
   },
   "id": "a0011c75e3017a7d"
  },
  {
   "cell_type": "markdown",
   "source": [
    "Wyświetl loty których odlot był opóźniony przynajmniej 30 minut ale wylądowały przed czasem"
   ],
   "metadata": {
    "collapsed": false
   },
   "id": "4a2b82f0f78f5d9f"
  },
  {
   "cell_type": "code",
   "execution_count": 83,
   "outputs": [
    {
     "data": {
      "text/plain": "            id  year  month  day  dep_time  sched_dep_time  dep_delay  \\\n234        234  2013      1    1    1025.0             951       34.0   \n952        952  2013      1    2     727.0             645       42.0   \n1723      1723  2013      1    2    2053.0            2022       31.0   \n2371      2371  2013      1    3    1628.0            1550       38.0   \n2669      2669  2013      1    3    2152.0            2120       32.0   \n...        ...   ...    ...  ...       ...             ...        ...   \n334827  334827  2013      9   28    1946.0            1905       41.0   \n334829  334829  2013      9   28    2003.0            1930       33.0   \n334845  334845  2013      9   28    2041.0            2005       36.0   \n336662  336662  2013      9   30    1940.0            1900       40.0   \n336682  336682  2013      9   30    2005.0            1930       35.0   \n\n        arr_time  sched_arr_time  arr_delay  ... tailnum  origin dest  \\\n234       1258.0            1302       -4.0  ...  N437UA     EWR  MCO   \n952       1024.0            1028       -4.0  ...  N820UA     EWR  SNA   \n1723      2331.0            2356      -25.0  ...  N539UA     EWR  SFO   \n2371      1922.0            1925       -3.0  ...  N675DL     JFK  SLC   \n2669      2346.0            2351       -5.0  ...  N524JB     JFK  DEN   \n...          ...             ...        ...  ...     ...     ...  ...   \n334827    2119.0            2131      -12.0  ...  N915XJ     JFK  MSY   \n334829    2122.0            2123       -1.0  ...  N929XJ     JFK  RDU   \n334845    2247.0            2300      -13.0  ...  N36272     EWR  IAH   \n336662    2228.0            2232       -4.0  ...  N723TW     JFK  SFO   \n336682    2118.0            2125       -7.0  ...  N926XJ     JFK  RDU   \n\n       air_time distance  hour  minute            time_hour  \\\n234       137.0      937     9      51  2013-01-01 09:00:00   \n952       338.0     2434     6      45  2013-01-02 06:00:00   \n1723      316.0     2565    20      22  2013-01-02 20:00:00   \n2371      266.0     1990    15      50  2013-01-03 15:00:00   \n2669      212.0     1626    21      20  2013-01-03 21:00:00   \n...         ...      ...   ...     ...                  ...   \n334827    137.0     1182    19       5  2013-09-28 19:00:00   \n334829     64.0      427    19      30  2013-09-28 19:00:00   \n334845    166.0     1400    20       5  2013-09-28 20:00:00   \n336662    323.0     2586    19       0  2013-09-30 19:00:00   \n336682     58.0      427    19      30  2013-09-30 19:00:00   \n\n                         name distance_km  \n234     United Air Lines Inc.    1507.633  \n952     United Air Lines Inc.    3916.306  \n1723    United Air Lines Inc.    4127.085  \n2371     Delta Air Lines Inc.    3201.910  \n2669          JetBlue Airways    2616.234  \n...                       ...         ...  \n334827      Endeavor Air Inc.    1901.838  \n334829      Endeavor Air Inc.     687.043  \n334845  United Air Lines Inc.    2252.600  \n336662   Delta Air Lines Inc.    4160.874  \n336682      Endeavor Air Inc.     687.043  \n\n[397 rows x 22 columns]",
      "text/html": "<div>\n<style scoped>\n    .dataframe tbody tr th:only-of-type {\n        vertical-align: middle;\n    }\n\n    .dataframe tbody tr th {\n        vertical-align: top;\n    }\n\n    .dataframe thead th {\n        text-align: right;\n    }\n</style>\n<table border=\"1\" class=\"dataframe\">\n  <thead>\n    <tr style=\"text-align: right;\">\n      <th></th>\n      <th>id</th>\n      <th>year</th>\n      <th>month</th>\n      <th>day</th>\n      <th>dep_time</th>\n      <th>sched_dep_time</th>\n      <th>dep_delay</th>\n      <th>arr_time</th>\n      <th>sched_arr_time</th>\n      <th>arr_delay</th>\n      <th>...</th>\n      <th>tailnum</th>\n      <th>origin</th>\n      <th>dest</th>\n      <th>air_time</th>\n      <th>distance</th>\n      <th>hour</th>\n      <th>minute</th>\n      <th>time_hour</th>\n      <th>name</th>\n      <th>distance_km</th>\n    </tr>\n  </thead>\n  <tbody>\n    <tr>\n      <th>234</th>\n      <td>234</td>\n      <td>2013</td>\n      <td>1</td>\n      <td>1</td>\n      <td>1025.0</td>\n      <td>951</td>\n      <td>34.0</td>\n      <td>1258.0</td>\n      <td>1302</td>\n      <td>-4.0</td>\n      <td>...</td>\n      <td>N437UA</td>\n      <td>EWR</td>\n      <td>MCO</td>\n      <td>137.0</td>\n      <td>937</td>\n      <td>9</td>\n      <td>51</td>\n      <td>2013-01-01 09:00:00</td>\n      <td>United Air Lines Inc.</td>\n      <td>1507.633</td>\n    </tr>\n    <tr>\n      <th>952</th>\n      <td>952</td>\n      <td>2013</td>\n      <td>1</td>\n      <td>2</td>\n      <td>727.0</td>\n      <td>645</td>\n      <td>42.0</td>\n      <td>1024.0</td>\n      <td>1028</td>\n      <td>-4.0</td>\n      <td>...</td>\n      <td>N820UA</td>\n      <td>EWR</td>\n      <td>SNA</td>\n      <td>338.0</td>\n      <td>2434</td>\n      <td>6</td>\n      <td>45</td>\n      <td>2013-01-02 06:00:00</td>\n      <td>United Air Lines Inc.</td>\n      <td>3916.306</td>\n    </tr>\n    <tr>\n      <th>1723</th>\n      <td>1723</td>\n      <td>2013</td>\n      <td>1</td>\n      <td>2</td>\n      <td>2053.0</td>\n      <td>2022</td>\n      <td>31.0</td>\n      <td>2331.0</td>\n      <td>2356</td>\n      <td>-25.0</td>\n      <td>...</td>\n      <td>N539UA</td>\n      <td>EWR</td>\n      <td>SFO</td>\n      <td>316.0</td>\n      <td>2565</td>\n      <td>20</td>\n      <td>22</td>\n      <td>2013-01-02 20:00:00</td>\n      <td>United Air Lines Inc.</td>\n      <td>4127.085</td>\n    </tr>\n    <tr>\n      <th>2371</th>\n      <td>2371</td>\n      <td>2013</td>\n      <td>1</td>\n      <td>3</td>\n      <td>1628.0</td>\n      <td>1550</td>\n      <td>38.0</td>\n      <td>1922.0</td>\n      <td>1925</td>\n      <td>-3.0</td>\n      <td>...</td>\n      <td>N675DL</td>\n      <td>JFK</td>\n      <td>SLC</td>\n      <td>266.0</td>\n      <td>1990</td>\n      <td>15</td>\n      <td>50</td>\n      <td>2013-01-03 15:00:00</td>\n      <td>Delta Air Lines Inc.</td>\n      <td>3201.910</td>\n    </tr>\n    <tr>\n      <th>2669</th>\n      <td>2669</td>\n      <td>2013</td>\n      <td>1</td>\n      <td>3</td>\n      <td>2152.0</td>\n      <td>2120</td>\n      <td>32.0</td>\n      <td>2346.0</td>\n      <td>2351</td>\n      <td>-5.0</td>\n      <td>...</td>\n      <td>N524JB</td>\n      <td>JFK</td>\n      <td>DEN</td>\n      <td>212.0</td>\n      <td>1626</td>\n      <td>21</td>\n      <td>20</td>\n      <td>2013-01-03 21:00:00</td>\n      <td>JetBlue Airways</td>\n      <td>2616.234</td>\n    </tr>\n    <tr>\n      <th>...</th>\n      <td>...</td>\n      <td>...</td>\n      <td>...</td>\n      <td>...</td>\n      <td>...</td>\n      <td>...</td>\n      <td>...</td>\n      <td>...</td>\n      <td>...</td>\n      <td>...</td>\n      <td>...</td>\n      <td>...</td>\n      <td>...</td>\n      <td>...</td>\n      <td>...</td>\n      <td>...</td>\n      <td>...</td>\n      <td>...</td>\n      <td>...</td>\n      <td>...</td>\n      <td>...</td>\n    </tr>\n    <tr>\n      <th>334827</th>\n      <td>334827</td>\n      <td>2013</td>\n      <td>9</td>\n      <td>28</td>\n      <td>1946.0</td>\n      <td>1905</td>\n      <td>41.0</td>\n      <td>2119.0</td>\n      <td>2131</td>\n      <td>-12.0</td>\n      <td>...</td>\n      <td>N915XJ</td>\n      <td>JFK</td>\n      <td>MSY</td>\n      <td>137.0</td>\n      <td>1182</td>\n      <td>19</td>\n      <td>5</td>\n      <td>2013-09-28 19:00:00</td>\n      <td>Endeavor Air Inc.</td>\n      <td>1901.838</td>\n    </tr>\n    <tr>\n      <th>334829</th>\n      <td>334829</td>\n      <td>2013</td>\n      <td>9</td>\n      <td>28</td>\n      <td>2003.0</td>\n      <td>1930</td>\n      <td>33.0</td>\n      <td>2122.0</td>\n      <td>2123</td>\n      <td>-1.0</td>\n      <td>...</td>\n      <td>N929XJ</td>\n      <td>JFK</td>\n      <td>RDU</td>\n      <td>64.0</td>\n      <td>427</td>\n      <td>19</td>\n      <td>30</td>\n      <td>2013-09-28 19:00:00</td>\n      <td>Endeavor Air Inc.</td>\n      <td>687.043</td>\n    </tr>\n    <tr>\n      <th>334845</th>\n      <td>334845</td>\n      <td>2013</td>\n      <td>9</td>\n      <td>28</td>\n      <td>2041.0</td>\n      <td>2005</td>\n      <td>36.0</td>\n      <td>2247.0</td>\n      <td>2300</td>\n      <td>-13.0</td>\n      <td>...</td>\n      <td>N36272</td>\n      <td>EWR</td>\n      <td>IAH</td>\n      <td>166.0</td>\n      <td>1400</td>\n      <td>20</td>\n      <td>5</td>\n      <td>2013-09-28 20:00:00</td>\n      <td>United Air Lines Inc.</td>\n      <td>2252.600</td>\n    </tr>\n    <tr>\n      <th>336662</th>\n      <td>336662</td>\n      <td>2013</td>\n      <td>9</td>\n      <td>30</td>\n      <td>1940.0</td>\n      <td>1900</td>\n      <td>40.0</td>\n      <td>2228.0</td>\n      <td>2232</td>\n      <td>-4.0</td>\n      <td>...</td>\n      <td>N723TW</td>\n      <td>JFK</td>\n      <td>SFO</td>\n      <td>323.0</td>\n      <td>2586</td>\n      <td>19</td>\n      <td>0</td>\n      <td>2013-09-30 19:00:00</td>\n      <td>Delta Air Lines Inc.</td>\n      <td>4160.874</td>\n    </tr>\n    <tr>\n      <th>336682</th>\n      <td>336682</td>\n      <td>2013</td>\n      <td>9</td>\n      <td>30</td>\n      <td>2005.0</td>\n      <td>1930</td>\n      <td>35.0</td>\n      <td>2118.0</td>\n      <td>2125</td>\n      <td>-7.0</td>\n      <td>...</td>\n      <td>N926XJ</td>\n      <td>JFK</td>\n      <td>RDU</td>\n      <td>58.0</td>\n      <td>427</td>\n      <td>19</td>\n      <td>30</td>\n      <td>2013-09-30 19:00:00</td>\n      <td>Endeavor Air Inc.</td>\n      <td>687.043</td>\n    </tr>\n  </tbody>\n</table>\n<p>397 rows × 22 columns</p>\n</div>"
     },
     "execution_count": 83,
     "metadata": {},
     "output_type": "execute_result"
    }
   ],
   "source": [
    "df_flights[(df_flights['dep_delay']>30) & (df_flights['arr_delay']<0)]"
   ],
   "metadata": {
    "collapsed": false
   },
   "id": "e1f64d7e36d869a3"
  },
  {
   "cell_type": "code",
   "execution_count": null,
   "outputs": [],
   "source": [
    "######################################################################################"
   ],
   "metadata": {
    "collapsed": false,
    "ExecuteTime": {
     "end_time": "2023-08-10T09:43:59.964241500Z",
     "start_time": "2023-08-10T09:43:59.892079400Z"
    }
   },
   "id": "4377eae6546967b1"
  },
  {
   "cell_type": "markdown",
   "source": [
    "Wyświetl ilość opóźnień odlotów wg. lini lotniczej"
   ],
   "metadata": {
    "collapsed": false
   },
   "id": "f4e7ffe1fd084717"
  },
  {
   "cell_type": "code",
   "execution_count": 76,
   "outputs": [
    {
     "data": {
      "text/plain": "name\nAirTran Airways Corporation     1647\nAlaska Airlines Inc.             225\nAmerican Airlines Inc.         10105\nDelta Air Lines Inc.           15186\nEndeavor Air Inc.               6980\nEnvoy Air                       7966\nExpressJet Airlines Inc.       22976\nFrontier Airlines Inc.           340\nHawaiian Airlines Inc.            69\nJetBlue Airways                21372\nMesa Airlines Inc.               232\nSkyWest Airlines Inc.              9\nSouthwest Airlines Co.          6535\nUS Airways Inc.                 4762\nUnited Air Lines Inc.          27125\nVirgin America                  2216\ndtype: int64"
     },
     "execution_count": 76,
     "metadata": {},
     "output_type": "execute_result"
    }
   ],
   "source": [
    "df_flights[df_flights['dep_delay'] > 0].groupby('name').size()"
   ],
   "metadata": {
    "collapsed": false
   },
   "id": "8824a6548c615981"
  },
  {
   "cell_type": "code",
   "execution_count": null,
   "outputs": [],
   "source": [
    "######################################################################################"
   ],
   "metadata": {
    "collapsed": false,
    "ExecuteTime": {
     "end_time": "2023-08-10T09:46:24.512014600Z",
     "start_time": "2023-08-10T09:46:24.428150600Z"
    }
   },
   "id": "2b890c925be15841"
  },
  {
   "cell_type": "markdown",
   "source": [
    "Wyświetl średnie opóźnienie odlotu wg. lini lotniczej"
   ],
   "metadata": {
    "collapsed": false
   },
   "id": "de4d30dc887d5e6"
  },
  {
   "cell_type": "code",
   "execution_count": 77,
   "outputs": [
    {
     "data": {
      "text/plain": "name\nAirTran Airways Corporation    18.605984\nAlaska Airlines Inc.            5.830748\nAmerican Airlines Inc.          8.569130\nDelta Air Lines Inc.            9.223950\nEndeavor Air Inc.              16.439574\nEnvoy Air                      10.445381\nExpressJet Airlines Inc.       19.838929\nFrontier Airlines Inc.         20.201175\nHawaiian Airlines Inc.          4.900585\nJetBlue Airways                12.967548\nMesa Airlines Inc.             18.898897\nSkyWest Airlines Inc.          12.586207\nSouthwest Airlines Co.         17.661657\nUS Airways Inc.                 3.744693\nUnited Air Lines Inc.          12.016908\nVirgin America                 12.756646\nName: dep_delay, dtype: float64"
     },
     "execution_count": 77,
     "metadata": {},
     "output_type": "execute_result"
    }
   ],
   "source": [
    "df_flights.groupby('name')['dep_delay'].mean()"
   ],
   "metadata": {
    "collapsed": false
   },
   "id": "b7a8b6160e42b8ea"
  },
  {
   "cell_type": "code",
   "execution_count": null,
   "outputs": [],
   "source": [
    "######################################################################################"
   ],
   "metadata": {
    "collapsed": false,
    "ExecuteTime": {
     "end_time": "2023-08-10T09:48:22.190523200Z",
     "start_time": "2023-08-10T09:48:22.121937700Z"
    }
   },
   "id": "fa97d2df3819d3a9"
  },
  {
   "cell_type": "markdown",
   "source": [
    "Wyświetl 5 tras (origin, dest) na których występuje najwięcej opóźnień przylotów"
   ],
   "metadata": {
    "collapsed": false
   },
   "id": "f3813e523cf26bd5"
  },
  {
   "cell_type": "code",
   "execution_count": 88,
   "outputs": [
    {
     "data": {
      "text/plain": "origin  dest\nLGA     ATL     4875\nJFK     LAX     3936\n        SFO     2979\nLGA     ORD     2796\n        CLT     2524\ndtype: int64"
     },
     "execution_count": 88,
     "metadata": {},
     "output_type": "execute_result"
    }
   ],
   "source": [
    "df_flights[df_flights['arr_delay'] > 0].groupby(['origin', 'dest']).size().sort_values(ascending=False).head(5)"
   ],
   "metadata": {
    "collapsed": false
   },
   "id": "48dd08f321e4eee9"
  },
  {
   "cell_type": "code",
   "execution_count": null,
   "outputs": [],
   "source": [
    "######################################################################################"
   ],
   "metadata": {
    "collapsed": false,
    "ExecuteTime": {
     "end_time": "2023-08-10T09:52:17.186361700Z",
     "start_time": "2023-08-10T09:52:17.112222900Z"
    }
   },
   "id": "46afa156a655999"
  },
  {
   "cell_type": "markdown",
   "source": [
    "Wyświetl daty w których stosunek opóźnionych przylotów w danym dniu do liczby wszystkich lotów jest większa od 80%"
   ],
   "metadata": {
    "collapsed": false
   },
   "id": "cc99f8ef0baba96c"
  },
  {
   "cell_type": "code",
   "execution_count": 89,
   "outputs": [
    {
     "data": {
      "text/plain": "month  day\n12     17     0.934132\n3      8      0.895990\n12     10     0.870095\n6      13     0.842225\n12     9      0.827778\n       14     0.811052\ndtype: float64"
     },
     "execution_count": 89,
     "metadata": {},
     "output_type": "execute_result"
    }
   ],
   "source": [
    "df_perc = (df_flights[df_flights['arr_delay'] > 0].groupby(['month', 'day']).size() / df_flights.groupby(['month', 'day']).size()).sort_values(ascending=False)\n",
    "df_perc[df_perc > 0.8]"
   ],
   "metadata": {
    "collapsed": false
   },
   "id": "91498e6d293aec0c"
  },
  {
   "cell_type": "code",
   "execution_count": null,
   "outputs": [],
   "source": [
    "######################################################################################"
   ],
   "metadata": {
    "collapsed": false,
    "ExecuteTime": {
     "end_time": "2023-08-10T10:11:25.067767800Z",
     "start_time": "2023-08-10T10:11:24.964194600Z"
    }
   },
   "id": "542c5bc986f84153"
  }
 ],
 "metadata": {
  "kernelspec": {
   "display_name": "Python 3",
   "language": "python",
   "name": "python3"
  },
  "language_info": {
   "codemirror_mode": {
    "name": "ipython",
    "version": 2
   },
   "file_extension": ".py",
   "mimetype": "text/x-python",
   "name": "python",
   "nbconvert_exporter": "python",
   "pygments_lexer": "ipython2",
   "version": "2.7.6"
  }
 },
 "nbformat": 4,
 "nbformat_minor": 5
}
